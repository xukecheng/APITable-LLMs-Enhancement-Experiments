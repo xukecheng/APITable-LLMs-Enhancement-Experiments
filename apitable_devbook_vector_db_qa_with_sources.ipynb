{
 "cells": [
  {
   "cell_type": "code",
   "execution_count": 1,
   "metadata": {},
   "outputs": [],
   "source": [
    "from langchain.embeddings.openai import OpenAIEmbeddings\n",
    "from langchain.vectorstores import Chroma\n",
    "import os"
   ]
  },
  {
   "cell_type": "code",
   "execution_count": 2,
   "metadata": {},
   "outputs": [
    {
     "name": "stderr",
     "output_type": "stream",
     "text": [
      "100%|██████████| 34/34 [00:05<00:00,  6.74it/s]\n",
      "100%|██████████| 11/11 [00:00<00:00, 21.71it/s]\n"
     ]
    },
    {
     "data": {
      "text/plain": [
       "45"
      ]
     },
     "execution_count": 2,
     "metadata": {},
     "output_type": "execute_result"
    }
   ],
   "source": [
    "from langchain.document_loaders import DirectoryLoader\n",
    "\n",
    "# 加载 DOCS 文档\n",
    "docs_loader = DirectoryLoader('./apitable_devbook/docs', glob=\"**/*.md\", use_multithreading=True, show_progress=True)\n",
    "\n",
    "docs = docs_loader.load()\n",
    "\n",
    "## 删除 DOCS 空文档\n",
    "for index in [ index for index in range(0, len(docs)) if docs[index].page_content == \"\" ]:\n",
    "    del docs[index]\n",
    "\n",
    "for index in range(0, len(docs)):\n",
    "    docs[index].metadata['source_file'] =  docs[index].metadata['source']\n",
    "    # 提取出文件名称，例如从 apitable_devbook/current/list-the-team-members.md 提取出 list-the-team-members\n",
    "    filename = os.path.splitext(os.path.basename(docs[index].metadata['source']))[0]\n",
    "    docs[index].metadata['source'] = 'https://developers.apitable.com/api/' + filename\n",
    "\n",
    "# 加载 API refrence 文档\n",
    "reference_loader = DirectoryLoader('./apitable_devbook/reference', glob=\"**/*.md\", use_multithreading=True, show_progress=True)\n",
    "reference = reference_loader.load()\n",
    "\n",
    "## 删除 API refrence 空文档\n",
    "for index in [ index for index in range(0, len(reference)) if reference[index].page_content == \"\" ]:\n",
    "    del reference[index]\n",
    "\n",
    "for index in range(0, len(reference)):\n",
    "    reference[index].metadata['source_file'] =  reference[index].metadata['source']\n",
    "    reference[index].metadata['source'] = 'https://developers.apitable.com/api/reference'\n",
    "\n",
    "# 将 DOCS 文档和 API refrence 文档合并\n",
    "documents = docs + reference\n",
    "len(documents)"
   ]
  },
  {
   "cell_type": "code",
   "execution_count": 3,
   "metadata": {},
   "outputs": [
    {
     "name": "stderr",
     "output_type": "stream",
     "text": [
      "Created a chunk of size 2226, which is longer than the specified 1000\n",
      "Created a chunk of size 1025, which is longer than the specified 1000\n",
      "Created a chunk of size 7906, which is longer than the specified 1000\n",
      "Created a chunk of size 1302, which is longer than the specified 1000\n",
      "Created a chunk of size 2437, which is longer than the specified 1000\n",
      "Created a chunk of size 2149, which is longer than the specified 1000\n",
      "Created a chunk of size 1514, which is longer than the specified 1000\n",
      "Created a chunk of size 1619, which is longer than the specified 1000\n",
      "Created a chunk of size 1831, which is longer than the specified 1000\n",
      "Created a chunk of size 1426, which is longer than the specified 1000\n",
      "Created a chunk of size 1102, which is longer than the specified 1000\n"
     ]
    }
   ],
   "source": [
    "# 这一步是为了将文档分割成小块，以便于后续的向量化，这主要是是因为 OpenAI 的向量化服务有长度限制\n",
    "from langchain.text_splitter import CharacterTextSplitter\n",
    "\n",
    "text_splitter = CharacterTextSplitter(chunk_size=1000, chunk_overlap=200)\n",
    "embed_docs = text_splitter.split_documents(documents)"
   ]
  },
  {
   "cell_type": "code",
   "execution_count": 5,
   "metadata": {},
   "outputs": [
    {
     "name": "stderr",
     "output_type": "stream",
     "text": [
      "Using embedded DuckDB with persistence: data will be stored in: db\n"
     ]
    }
   ],
   "source": [
    "# 向量化\n",
    "embeddings = OpenAIEmbeddings()\n",
    "persist_directory = 'db'\n",
    "vectordb = Chroma.from_documents(embed_docs, embeddings, persist_directory=persist_directory)\n",
    "\n",
    "# 持久化向量化结果到本地\n",
    "vectordb.persist()\n",
    "vectordb = None"
   ]
  },
  {
   "cell_type": "code",
   "execution_count": 6,
   "metadata": {},
   "outputs": [
    {
     "name": "stderr",
     "output_type": "stream",
     "text": [
      "Using embedded DuckDB with persistence: data will be stored in: db\n"
     ]
    }
   ],
   "source": [
    "from langchain.chat_models import ChatOpenAI\n",
    "from langchain.chains import RetrievalQAWithSourcesChain\n",
    "persist_directory = 'db'\n",
    "embeddings = OpenAIEmbeddings()\n",
    "\n",
    "# 从本地加载向量化结果\n",
    "docsearch = Chroma(persist_directory=persist_directory, embedding_function=embeddings)\n",
    "\n",
    "qa = RetrievalQAWithSourcesChain.from_chain_type(ChatOpenAI(temperature=0), chain_type=\"stuff\", chain_type_kwargs=chain_type_kwargs, retriever=docsearch.as_retriever(search_kwargs={\"k\": 3}))"
   ]
  },
  {
   "cell_type": "code",
   "execution_count": 7,
   "metadata": {},
   "outputs": [
    {
     "data": {
      "text/plain": [
       "[(Document(page_content='```js\\nimport { APITable } from \\'apitable\\';\\nconst apitable = new APITable({\\n  token: \\'Your API Token\\',\\n});\\nconst datasheet = apitable.datasheet(\"dstWUHwzTHd2YQaXEE\");\\n// Get records in pages, return to the first page by default\\ndatasheet.records.query({ viewId: \"viw4mnkqkaqdh\"}).then(response => {\\nif (response.success) {\\n  console.log(response.data.records);\\n} else {\\n  console.error(response);\\n}\\n});\\n// Automatically handles paging and iteratively returns all records.\\nconst recordsIter = datasheet.records.queryAll({ viewId: \"viw4mnkqkaqdh\"})\\n// for await needs to be run in an async function and requires a browser/node version.See https://developer.mozilla.org/zh-CN/docs/Web/JavaScript/Reference/Statements/for-await... .of\\nfor await (const eachPageRecords of recordsIter){\\n  console.log(eachPageRecords)\\n}\\n```\\nThe query and queryAll methods support passing in multiple parameters to customize the set of records returned.The supported parameters are consistent with the query parameters in API Reference \"Get Records\".', metadata={'source': 'https://developers.apitable.com/api/get-records', 'source_file': 'apitable_devbook/docs/get-records.md'}),\n",
       "  0.39236947894096375),\n",
       " (Document(page_content='Note: Need to Download and initialize Javascript SDK first, and then execute the following command.\\n\\n```js\\nimport { APITable } from \\'apitable\\';\\nconst apitable = new APITable({\\n  token: \\'Your API Token\\',\\n});\\nconst datasheet = apitable.datasheet(\"dstWUHwzTHd2YQaXEE\");\\n// Get records in pages, return to the first page by default\\ndatasheet.records.query({ fields: [\"nickname\", \"age\"] }).then(response => {\\nif (response.success) {\\n  console.log(response.data.records);\\n} else {\\n  console.error(response);\\n}\\n});\\n```\\nThe query and queryAll methods support passing in multiple parameters to customize the set of records returned.The supported parameters are consistent with the query parameters in API Reference \"Get Records\".\\n\\nNote: You need to download and initialize the Python SDK first, and then execute the following command.', metadata={'source': 'https://developers.apitable.com/api/get-records', 'source_file': 'apitable_devbook/docs/get-records.md'}),\n",
       "  0.4155198037624359),\n",
       " (Document(page_content='Note: Need to Download and initialize Javascript SDK first, and then execute the following command.\\n\\n```js\\nimport { APITable } from \\'apitable\\';\\nconst apitable = new APITable({\\n  token: \\'Your API Token\\',\\n});\\nconst datasheet = apitable.datasheet(\"dstWUHwzTHd2YQaXEE\");\\ndatasheet.records.update([\\n{\\n    \"recordId\": \"recbaKEuZ9gDC\",\\n    fields:{\\n      \"Nickname\": \"An An\",\\n      \"Weight\": \"90kg\"\\n    }\\n},\\n{\\n    \"recordId\": \"rec09dm5nsmS6\",\\n    fields:{\\n      \"Nickname\": \"Jia Jia\",\\n      \"Weight\": \"90kg\"\\n    }\\n}\\n]).then(response => {\\nif (response.success) {\\n    console.log(response.data.records);\\n} else {\\n    console.error(response);\\n}\\n});\\n```', metadata={'source': 'https://developers.apitable.com/api/update-records', 'source_file': 'apitable_devbook/docs/update-records.md'}),\n",
       "  0.4268684387207031),\n",
       " (Document(page_content='Note: Need to Download and initialize Javascript SDK first, and then execute the following command.\\n\\n```js\\nimport { APITable } from \\'apitable\\';\\nconst apitable = new APITable({\\n  token: \\'Your API Token\\',\\n});\\nconst datasheet = apitable.datasheet(\"dstNrmvismEKLSMn2Q\");\\n// Get records in pages, return to the first page by default\\ndatasheet.records.query({ filterByFormula: \\'OR(find(\"Vacuum\", {Main Selling Points}) > 0, find(\"Thermal insulation\", {Main Selling Points}) > 0)\\', maxRecords: 3, sort: [{\"field\": \"Promotion Price\", \"order\": \"desc\"}]}).then(response => {\\nif (response.success) {\\n  console.log(response.data.records);\\n} else {\\n  console.error(response);\\n}\\n});\\n```\\nThe query and queryAll methods support passing in multiple parameters to customize the set of records returned.The supported parameters are consistent with the query parameters in API Reference \"Get Records\".\\n\\nNote: You need to download and initialize the Python SDK first, and then execute the following command.', metadata={'source': 'https://developers.apitable.com/api/get-records', 'source_file': 'apitable_devbook/docs/get-records.md'}),\n",
       "  0.436811625957489)]"
      ]
     },
     "execution_count": 7,
     "metadata": {},
     "output_type": "execute_result"
    }
   ],
   "source": [
    "# score 是代表向量计算两个内容的距离，越低越好\n",
    "query = \"我怎么获取表格中的记录？\"\n",
    "similar_docs = docsearch.similarity_search_with_score(query)\n",
    "similar_docs"
   ]
  },
  {
   "cell_type": "code",
   "execution_count": 10,
   "metadata": {},
   "outputs": [
    {
     "name": "stderr",
     "output_type": "stream",
     "text": [
      "Retrying langchain.embeddings.openai.embed_with_retry.<locals>._embed_with_retry in 4.0 seconds as it raised APIError: The server had an error while processing your request. Sorry about that! You can retry your request, or contact us through our help center at help.openai.com if the error persists. (Please include the request ID 207a4153ad884c595e74da0eb1534f39 in your message.) {\n",
      "  \"error\": {\n",
      "    \"message\": \"The server had an error while processing your request. Sorry about that! You can retry your request, or contact us through our help center at help.openai.com if the error persists. (Please include the request ID 207a4153ad884c595e74da0eb1534f39 in your message.)\",\n",
      "    \"type\": \"server_error\",\n",
      "    \"param\": null,\n",
      "    \"code\": null\n",
      "  }\n",
      "}\n",
      " 500 {'error': {'message': 'The server had an error while processing your request. Sorry about that! You can retry your request, or contact us through our help center at help.openai.com if the error persists. (Please include the request ID 207a4153ad884c595e74da0eb1534f39 in your message.)', 'type': 'server_error', 'param': None, 'code': None}} {'Date': 'Wed, 21 Jun 2023 03:03:21 GMT', 'Content-Type': 'application/json', 'Content-Length': '366', 'Connection': 'keep-alive', 'access-control-allow-origin': '*', 'openai-organization': 'user-qycdjsnb8x44hrxd6bs0hybt', 'openai-processing-ms': '32931', 'openai-version': '2020-10-01', 'strict-transport-security': 'max-age=15724800; includeSubDomains', 'x-ratelimit-limit-requests': '3000', 'x-ratelimit-remaining-requests': '2999', 'x-ratelimit-reset-requests': '20ms', 'x-request-id': '207a4153ad884c595e74da0eb1534f39', 'CF-Cache-Status': 'DYNAMIC', 'Server': 'cloudflare', 'CF-RAY': '7da903c4eec09848-SJC', 'alt-svc': 'h3=\":443\"; ma=86400'}.\n"
     ]
    },
    {
     "name": "stdout",
     "output_type": "stream",
     "text": [
      "{'error': {'message': 'The server had an error while processing your request. Sorry about that! You can retry your request, or contact us through our help center at help.openai.com if the error persists. (Please include the request ID 207a4153ad884c595e74da0eb1534f39 in your message.)', 'type': 'server_error', 'param': None, 'code': None}}\n"
     ]
    },
    {
     "data": {
      "text/plain": [
       "{'answer': 'To get records from the table, you can use the `query` or `queryAll` methods with parameters to customize the set of records returned. The supported parameters are consistent with the query parameters in API Reference \"Get Records\". To update records, you can use the `update` method with the record ID and fields to be updated. You need to download and initialize the Javascript or Python SDK first before executing the commands. \\n',\n",
       " 'sources': 'https://developers.apitable.com/api/get-records, https://developers.apitable.com/api/update-records'}"
      ]
     },
     "execution_count": 10,
     "metadata": {},
     "output_type": "execute_result"
    }
   ],
   "source": [
    "qa({\"question\": \"我怎么获取表格中的记录？\"}, return_only_outputs=True)"
   ]
  },
  {
   "cell_type": "code",
   "execution_count": 11,
   "metadata": {},
   "outputs": [
    {
     "data": {
      "text/plain": [
       "[(Document(page_content='title: Get Records\\n\\nmdx-code-block\\nimport Tabs from \\'@theme/Tabs\\';\\nimport TabItem from \\'@theme/TabItem\\';\\n\\nThis text provides an example of how to call Get records interface.\\n\\nExample 1: Get all records in the specified view under the specified APITable\\n\\nSuppose you have a datasheet, and you want to get all the records in the \"Grid View\".\\n\\nYour action steps below:\\n\\nGet your API Token.(How to get it)\\n\\nGet the dastasheet ID(How to get it) and \\'Grid view\\' ID(How to get it).\\n\\nOpen the terminal on your computer, execute the following code and send the query request to the server (assuming datasheetId is dstWUHwzTH2YQaXEE, viewId is viw4mnkqkaqdh):\\n````mdx-code-block\\n<Tabs\\ngroupId=\"get records\"\\ndefaultValue=\"cURL\"\\nvalues={\\n    [\\n    { label: \"cURL\", value: \\'cURL\\', },\\n    { label: \"Javascript SDK\", value: \\'Javascript SDK\\', },\\n    { label: \"Python SDK\", value: \\'Python SDK\\', },\\n    ]\\n}', metadata={'source': 'https://developers.apitable.com/api/get-records', 'source_file': 'apitable_devbook/docs/get-records.md'}),\n",
       "  0.34594133496284485),\n",
       " (Document(page_content='Note: Need to Download and initialize Javascript SDK first, and then execute the following command.\\n\\n```js\\nimport { APITable } from \\'apitable\\';\\nconst apitable = new APITable({\\n  token: \\'Your API Token\\',\\n});\\nconst datasheet = apitable.datasheet(\"dstWUHwzTHd2YQaXEE\");\\n// Get records in pages, return to the first page by default\\ndatasheet.records.query({ fields: [\"nickname\", \"age\"] }).then(response => {\\nif (response.success) {\\n  console.log(response.data.records);\\n} else {\\n  console.error(response);\\n}\\n});\\n```\\nThe query and queryAll methods support passing in multiple parameters to customize the set of records returned.The supported parameters are consistent with the query parameters in API Reference \"Get Records\".\\n\\nNote: You need to download and initialize the Python SDK first, and then execute the following command.', metadata={'source': 'https://developers.apitable.com/api/get-records', 'source_file': 'apitable_devbook/docs/get-records.md'}),\n",
       "  0.34694528579711914),\n",
       " (Document(page_content='Note: Need to Download and initialize Javascript SDK first, and then execute the following command.\\n\\n```js\\nimport { APITable } from \\'apitable\\';\\nconst apitable = new APITable({\\n  token: \\'Your API Token\\',\\n});\\nconst datasheet = apitable.datasheet(\"dstNrmvismEKLSMn2Q\");\\n// Get records in pages, return to the first page by default\\ndatasheet.records.query({ filterByFormula: \\'OR(find(\"Vacuum\", {Main Selling Points}) > 0, find(\"Thermal insulation\", {Main Selling Points}) > 0)\\', maxRecords: 3, sort: [{\"field\": \"Promotion Price\", \"order\": \"desc\"}]}).then(response => {\\nif (response.success) {\\n  console.log(response.data.records);\\n} else {\\n  console.error(response);\\n}\\n});\\n```\\nThe query and queryAll methods support passing in multiple parameters to customize the set of records returned.The supported parameters are consistent with the query parameters in API Reference \"Get Records\".\\n\\nNote: You need to download and initialize the Python SDK first, and then execute the following command.', metadata={'source': 'https://developers.apitable.com/api/get-records', 'source_file': 'apitable_devbook/docs/get-records.md'}),\n",
       "  0.355151891708374),\n",
       " (Document(page_content='```js\\nimport { APITable } from \\'apitable\\';\\nconst apitable = new APITable({\\n  token: \\'Your API Token\\',\\n});\\nconst datasheet = apitable.datasheet(\"dstWUHwzTHd2YQaXEE\");\\n// Get records in pages, return to the first page by default\\ndatasheet.records.query({ viewId: \"viw4mnkqkaqdh\"}).then(response => {\\nif (response.success) {\\n  console.log(response.data.records);\\n} else {\\n  console.error(response);\\n}\\n});\\n// Automatically handles paging and iteratively returns all records.\\nconst recordsIter = datasheet.records.queryAll({ viewId: \"viw4mnkqkaqdh\"})\\n// for await needs to be run in an async function and requires a browser/node version.See https://developer.mozilla.org/zh-CN/docs/Web/JavaScript/Reference/Statements/for-await... .of\\nfor await (const eachPageRecords of recordsIter){\\n  console.log(eachPageRecords)\\n}\\n```\\nThe query and queryAll methods support passing in multiple parameters to customize the set of records returned.The supported parameters are consistent with the query parameters in API Reference \"Get Records\".', metadata={'source': 'https://developers.apitable.com/api/get-records', 'source_file': 'apitable_devbook/docs/get-records.md'}),\n",
       "  0.362201452255249)]"
      ]
     },
     "execution_count": 11,
     "metadata": {},
     "output_type": "execute_result"
    }
   ],
   "source": [
    "# 英文提问在英文语料下的表现会更好\n",
    "query = \"How can I get the records from a table?\"\n",
    "similar_docs = docsearch.similarity_search_with_score(query)\n",
    "similar_docs"
   ]
  },
  {
   "cell_type": "code",
   "execution_count": 12,
   "metadata": {},
   "outputs": [
    {
     "data": {
      "text/plain": [
       "{'answer': 'To get the records from a table, you need to use the Get Records interface and call the query or queryAll methods with the appropriate parameters. The specific code to use depends on the SDK you are using (Javascript or Python). You also need to have your API Token and the datasheet ID and view ID for the table you want to retrieve records from. \\n',\n",
       " 'sources': 'https://developers.apitable.com/api/get-records'}"
      ]
     },
     "execution_count": 12,
     "metadata": {},
     "output_type": "execute_result"
    }
   ],
   "source": [
    "qa({\"question\": \"How can I get the records from a table?\"}, return_only_outputs=True)"
   ]
  },
  {
   "cell_type": "code",
   "execution_count": 23,
   "metadata": {},
   "outputs": [],
   "source": [
    "#使用中文回答\n",
    "from langchain.prompts import PromptTemplate\n",
    "template = \"\"\"Given the following extracted parts of a long document and a question, create a final answer with references (\"SOURCES\"). \n",
    "If you don't know the answer, just say that you don't know. Don't try to make up an answer.\n",
    "ALWAYS return a \"SOURCES\" part in your answer.\n",
    "\n",
    "QUESTION: Which state/country's law governs the interpretation of the contract?\n",
    "=========\n",
    "Content: This Agreement is governed by English law and the parties submit to the exclusive jurisdiction of the English courts in  relation to any dispute (contractual or non-contractual) concerning this Agreement save that either party may apply to any court for an  injunction or other relief to protect its Intellectual Property Rights.\n",
    "Source: 28-pl\n",
    "Content: No Waiver. Failure or delay in exercising any right or remedy under this Agreement shall not constitute a waiver of such (or any other)  right or remedy.\\n\\n11.7 Severability. The invalidity, illegality or unenforceability of any term (or part of a term) of this Agreement shall not affect the continuation  in force of the remainder of the term (if any) and this Agreement.\\n\\n11.8 No Agency. Except as expressly stated otherwise, nothing in this Agreement shall create an agency, partnership or joint venture of any  kind between the parties.\\n\\n11.9 No Third-Party Beneficiaries.\n",
    "Source: 30-pl\n",
    "Content: (b) if Google believes, in good faith, that the Distributor has violated or caused Google to violate any Anti-Bribery Laws (as  defined in Clause 8.5) or that such a violation is reasonably likely to occur,\n",
    "Source: 4-pl\n",
    "=========\n",
    "FINAL ANSWER: This Agreement is governed by English law.\n",
    "SOURCES: 28-pl\n",
    "\n",
    "QUESTION: What did the president say about Michael Jackson?\n",
    "=========\n",
    "Content: Madam Speaker, Madam Vice President, our First Lady and Second Gentleman. Members of Congress and the Cabinet. Justices of the Supreme Court. My fellow Americans.  \\n\\nLast year COVID-19 kept us apart. This year we are finally together again. \\n\\nTonight, we meet as Democrats Republicans and Independents. But most importantly as Americans. \\n\\nWith a duty to one another to the American people to the Constitution. \\n\\nAnd with an unwavering resolve that freedom will always triumph over tyranny. \\n\\nSix days ago, Russia’s Vladimir Putin sought to shake the foundations of the free world thinking he could make it bend to his menacing ways. But he badly miscalculated. \\n\\nHe thought he could roll into Ukraine and the world would roll over. Instead he met a wall of strength he never imagined. \\n\\nHe met the Ukrainian people. \\n\\nFrom President Zelenskyy to every Ukrainian, their fearlessness, their courage, their determination, inspires the world. \\n\\nGroups of citizens blocking tanks with their bodies. Everyone from students to retirees teachers turned soldiers defending their homeland.\n",
    "Source: 0-pl\n",
    "Content: And we won’t stop. \\n\\nWe have lost so much to COVID-19. Time with one another. And worst of all, so much loss of life. \\n\\nLet’s use this moment to reset. Let’s stop looking at COVID-19 as a partisan dividing line and see it for what it is: A God-awful disease.  \\n\\nLet’s stop seeing each other as enemies, and start seeing each other for who we really are: Fellow Americans.  \\n\\nWe can’t change how divided we’ve been. But we can change how we move forward—on COVID-19 and other issues we must face together. \\n\\nI recently visited the New York City Police Department days after the funerals of Officer Wilbert Mora and his partner, Officer Jason Rivera. \\n\\nThey were responding to a 9-1-1 call when a man shot and killed them with a stolen gun. \\n\\nOfficer Mora was 27 years old. \\n\\nOfficer Rivera was 22. \\n\\nBoth Dominican Americans who’d grown up on the same streets they later chose to patrol as police officers. \\n\\nI spoke with their families and told them that we are forever in debt for their sacrifice, and we will carry on their mission to restore the trust and safety every community deserves.\n",
    "Source: 24-pl\n",
    "Content: And a proud Ukrainian people, who have known 30 years  of independence, have repeatedly shown that they will not tolerate anyone who tries to take their country backwards.  \\n\\nTo all Americans, I will be honest with you, as I’ve always promised. A Russian dictator, invading a foreign country, has costs around the world. \\n\\nAnd I’m taking robust action to make sure the pain of our sanctions  is targeted at Russia’s economy. And I will use every tool at our disposal to protect American businesses and consumers. \\n\\nTonight, I can announce that the United States has worked with 30 other countries to release 60 Million barrels of oil from reserves around the world.  \\n\\nAmerica will lead that effort, releasing 30 Million barrels from our own Strategic Petroleum Reserve. And we stand ready to do more if necessary, unified with our allies.  \\n\\nThese steps will help blunt gas prices here at home. And I know the news about what’s happening can seem alarming. \\n\\nBut I want you to know that we are going to be okay.\n",
    "Source: 5-pl\n",
    "Content: More support for patients and families. \\n\\nTo get there, I call on Congress to fund ARPA-H, the Advanced Research Projects Agency for Health. \\n\\nIt’s based on DARPA—the Defense Department project that led to the Internet, GPS, and so much more.  \\n\\nARPA-H will have a singular purpose—to drive breakthroughs in cancer, Alzheimer’s, diabetes, and more. \\n\\nA unity agenda for the nation. \\n\\nWe can do this. \\n\\nMy fellow Americans—tonight , we have gathered in a sacred space—the citadel of our democracy. \\n\\nIn this Capitol, generation after generation, Americans have debated great questions amid great strife, and have done great things. \\n\\nWe have fought for freedom, expanded liberty, defeated totalitarianism and terror. \\n\\nAnd built the strongest, freest, and most prosperous nation the world has ever known. \\n\\nNow is the hour. \\n\\nOur moment of responsibility. \\n\\nOur test of resolve and conscience, of history itself. \\n\\nIt is in this moment that our character is formed. Our purpose is found. Our future is forged. \\n\\nWell I know this nation.\n",
    "Source: 34-pl\n",
    "=========\n",
    "FINAL ANSWER: The president did not mention Michael Jackson.\n",
    "SOURCES:\n",
    "\n",
    "QUESTION: {question}\n",
    "=========\n",
    "{summaries}\n",
    "=========\n",
    "FINAL ANSWER in Chinese:\"\"\"\n",
    "PROMPT = PromptTemplate(template=template, input_variables=[\"summaries\", \"question\"])\n",
    "\n",
    "chain_type_kwargs = {\"prompt\": PROMPT}\n",
    "zh_qa = RetrievalQAWithSourcesChain.from_chain_type(ChatOpenAI(temperature=0), chain_type=\"stuff\", chain_type_kwargs=chain_type_kwargs, retriever=docsearch.as_retriever(search_kwargs={\"k\": 3}))"
   ]
  },
  {
   "cell_type": "code",
   "execution_count": 24,
   "metadata": {},
   "outputs": [
    {
     "data": {
      "text/plain": [
       "{'answer': '需要使用API Handbook中的查询参数来获取筛选后的记录。需要使用filterByFormula参数来筛选出“主要销售点”包含“Vacuum”或“Thermal insulation”关键词的3个产品，并按促销价格从高到低排序。还需要使用maxRecords参数来限制返回的记录数量。具体的代码实现可以参考API Reference \"Get Records\"中的示例代码。需要先获取API Token和datasheet Id。在发送查询请求时，如果使用cURL，需要使用encodeURIComponent()函数来转义查询参数的值。 \\n',\n",
       " 'sources': 'https://developers.apitable.com/api/get-records'}"
      ]
     },
     "execution_count": 24,
     "metadata": {},
     "output_type": "execute_result"
    }
   ],
   "source": [
    "zh_qa({\"question\": \"我想要获取筛选后的记录，该怎么办？\"}, return_only_outputs=True)"
   ]
  },
  {
   "cell_type": "code",
   "execution_count": 26,
   "metadata": {},
   "outputs": [
    {
     "data": {
      "text/plain": [
       "{'answer': '要获取筛选后的记录，需要使用API Handbook \"Get Records\"中的查询参数，包括filterByFormula、maxRecords和sort。具体步骤包括获取API Token和datasheet Id，然后使用终端执行相应的代码发送查询请求。如果使用cURL发送查询请求，则需要使用encodeURIComponent()函数转义查询参数的值。具体的示例代码可以在API Handbook \"Get Records\"中找到。\\n',\n",
       " 'sources': 'https://developers.apitable.com/api/get-records'}"
      ]
     },
     "execution_count": 26,
     "metadata": {},
     "output_type": "execute_result"
    }
   ],
   "source": [
    "zh_qa({\"question\": \"How can I get the filtered records?\"}, return_only_outputs=True)"
   ]
  },
  {
   "cell_type": "code",
   "execution_count": 25,
   "metadata": {},
   "outputs": [
    {
     "data": {
      "text/plain": [
       "{'answer': '这些内容都没有提到“报错了，401”。\\n', 'sources': 'N/A'}"
      ]
     },
     "execution_count": 25,
     "metadata": {},
     "output_type": "execute_result"
    }
   ],
   "source": [
    "zh_qa({\"question\": \"报错了，401\"}, return_only_outputs=True)"
   ]
  }
 ],
 "metadata": {
  "kernelspec": {
   "display_name": "Python 3",
   "language": "python",
   "name": "python3"
  },
  "language_info": {
   "codemirror_mode": {
    "name": "ipython",
    "version": 3
   },
   "file_extension": ".py",
   "mimetype": "text/x-python",
   "name": "python",
   "nbconvert_exporter": "python",
   "pygments_lexer": "ipython3",
   "version": "3.10.10"
  },
  "orig_nbformat": 4
 },
 "nbformat": 4,
 "nbformat_minor": 2
}
