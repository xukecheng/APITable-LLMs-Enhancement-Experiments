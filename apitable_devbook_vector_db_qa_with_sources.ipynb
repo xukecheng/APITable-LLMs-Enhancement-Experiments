{
 "cells": [
  {
   "cell_type": "code",
   "execution_count": 1,
   "metadata": {},
   "outputs": [],
   "source": [
    "from langchain.embeddings.openai import OpenAIEmbeddings\n",
    "from langchain.vectorstores import Chroma\n",
    "import os"
   ]
  },
  {
   "cell_type": "code",
   "execution_count": 2,
   "metadata": {},
   "outputs": [
    {
     "name": "stderr",
     "output_type": "stream",
     "text": [
      "100%|██████████| 34/34 [00:03<00:00, 10.59it/s]\n",
      " 92%|█████████▏| 11/12 [00:00<00:00, 34.62it/s]\n"
     ]
    },
    {
     "data": {
      "text/plain": [
       "45"
      ]
     },
     "execution_count": 2,
     "metadata": {},
     "output_type": "execute_result"
    }
   ],
   "source": [
    "from langchain.document_loaders import DirectoryLoader\n",
    "\n",
    "docs_loader = DirectoryLoader('./apitable_devbook/docs', glob=\"**/*\", use_multithreading=True, show_progress=True)\n",
    "\n",
    "docs = docs_loader.load()\n",
    "\n",
    "need_del_list = [ index for index in range(0, len(docs)) if docs[index].page_content == \"\" ]\n",
    "\n",
    "for index in need_del_list:\n",
    "    del docs[index]\n",
    "\n",
    "for index in range(0, len(docs)):\n",
    "    # 提取出文件名称，例如从 apitable_devbook/current/list-the-team-members.md 提取出 list-the-team-members\n",
    "    docs[index].metadata['source_file'] =  docs[index].metadata['source']\n",
    "    filename = os.path.splitext(os.path.basename(docs[index].metadata['source']))[0]\n",
    "    docs[index].metadata['source'] = 'https://developers.apitable.com/api/' + filename\n",
    "    if docs[index].page_content == \"\":\n",
    "        del docs[index]\n",
    "\n",
    "reference_loader = DirectoryLoader('./apitable_devbook/reference', glob=\"**/*\", use_multithreading=True, show_progress=True)\n",
    "reference = reference_loader.load()\n",
    "need_del_list = [ index for index in range(0, len(reference)) if reference[index].page_content == \"\" ]\n",
    "\n",
    "for index in need_del_list:\n",
    "    del reference[index]\n",
    "\n",
    "for index in range(0, len(reference)):\n",
    "    reference[index].metadata['source_file'] =  reference[index].metadata['source']\n",
    "    reference[index].metadata['source'] = 'https://developers.apitable.com/api/reference'\n",
    "documents = docs + reference\n",
    "len(documents)"
   ]
  },
  {
   "cell_type": "code",
   "execution_count": 3,
   "metadata": {},
   "outputs": [
    {
     "name": "stderr",
     "output_type": "stream",
     "text": [
      "Created a chunk of size 2226, which is longer than the specified 1000\n",
      "Created a chunk of size 1025, which is longer than the specified 1000\n",
      "Created a chunk of size 7906, which is longer than the specified 1000\n",
      "Created a chunk of size 1302, which is longer than the specified 1000\n",
      "Created a chunk of size 2437, which is longer than the specified 1000\n",
      "Created a chunk of size 2149, which is longer than the specified 1000\n",
      "Created a chunk of size 1514, which is longer than the specified 1000\n",
      "Created a chunk of size 1619, which is longer than the specified 1000\n",
      "Created a chunk of size 1831, which is longer than the specified 1000\n",
      "Created a chunk of size 1426, which is longer than the specified 1000\n",
      "Created a chunk of size 1102, which is longer than the specified 1000\n"
     ]
    }
   ],
   "source": [
    "from langchain.text_splitter import CharacterTextSplitter\n",
    "\n",
    "text_splitter = CharacterTextSplitter(chunk_size=1000, chunk_overlap=200)\n",
    "embed_docs = text_splitter.split_documents(documents)"
   ]
  },
  {
   "cell_type": "code",
   "execution_count": 4,
   "metadata": {},
   "outputs": [
    {
     "name": "stderr",
     "output_type": "stream",
     "text": [
      "Using embedded DuckDB with persistence: data will be stored in: db\n"
     ]
    }
   ],
   "source": [
    "embeddings = OpenAIEmbeddings()\n",
    "persist_directory = 'db'\n",
    "vectordb = Chroma.from_documents(embed_docs, embeddings, persist_directory=persist_directory)\n",
    "vectordb.persist()\n",
    "vectordb = None"
   ]
  },
  {
   "cell_type": "code",
   "execution_count": 5,
   "metadata": {},
   "outputs": [
    {
     "name": "stderr",
     "output_type": "stream",
     "text": [
      "Using embedded DuckDB with persistence: data will be stored in: db\n"
     ]
    }
   ],
   "source": [
    "from langchain.chat_models import ChatOpenAI\n",
    "from langchain.chains import RetrievalQAWithSourcesChain\n",
    "\n",
    "docsearch = Chroma(persist_directory=persist_directory, embedding_function=embeddings)\n",
    "\n",
    "qa = RetrievalQAWithSourcesChain.from_chain_type(ChatOpenAI(temperature=0), chain_type=\"stuff\", retriever=docsearch.as_retriever())"
   ]
  },
  {
   "cell_type": "code",
   "execution_count": 6,
   "metadata": {},
   "outputs": [
    {
     "data": {
      "text/plain": [
       "[(Document(page_content='The data structure of the Member is as follows.', metadata={'source': 'https://developers.apitable.com/api/reference', 'source_file': 'apitable_devbook/reference/api/members.md'}),\n",
       "  0.5979182124137878),\n",
       " (Document(page_content='The data structure of the Team is as follows.', metadata={'source': 'https://developers.apitable.com/api/reference', 'source_file': 'apitable_devbook/reference/api/teams.md'}),\n",
       "  0.6052681803703308),\n",
       " (Document(page_content='json\\n   {\\n    \"code\": 200,\\n    \"message\": \"SUCCESS\",\\n    \"success\": true,\\n    \"data\":{\\n      \"member\": \\n      {\\n        \"unitId\": \"kD8tPcZ3fYxSjV9qWvL5X2TmQbN1nR6\",\\n        \"name\": \"John\",\\n        \"mobile\": {\\n            \"number\": \"13000111000\",\\n            \"areaCode\": \"+86\"\\n        },\\n        \"email\":\"John@apitable.com\",\\n        \"avatar\": \"https://s1.apitable.com/public/2023/05/16/00a91wbb47fd0594fbc975d2d764a45q\",\\n        \"status\": 1,\\n        \"type\": \"Member\",\\n        \"teams\": [\\n          {\\n            \"unitId\": \"VS1SejiywaMWbiGMEHAohh62T9EPmmlh\",\\n            \"name\": \"team A\",\\n            \"sequence\": 1,\\n            \"parentUnitId\": \"0\",\\n            \"roles\": [\\n              {\\n                  \"unitId\": \"zJ6TuQvH2RtNfSx9eY7XKgD1oWcE5pV\",\\n                  \"name\": \"role A\",\\n                  \"sequence\": 1\\n              }\\n            ]\\n          }\\n        ],\\n        \"roles\": [\\n          {\\n            \"unitId\": \"c9EQqwN1pOEgjXqKJznPF6xF8t5TYTf0\",\\n            \"name\": \"role B\",\\n            \"sequence\": 2\\n          }\\n        ]\\n      } \\n    }\\n  }', metadata={'source': 'https://developers.apitable.com/api/get-a-member', 'source_file': 'apitable_devbook/docs/get-a-member.md'}),\n",
       "  0.6206168532371521),\n",
       " (Document(page_content='json\\n   {\\n     \"code\": 200,\\n     \"message\": \"SUCCESS\",\\n     \"success\": true,\\n     \"data\": {\\n       \"members\": [\\n          {\\n            \"unitId\": \"K2QmXjH1tLzSsZbYyVWv6gUoP9wN7pC\",\\n            \"name\": \"John\",\\n            \"mobile\": {\\n                \"number\": \"14567890123\",\\n                \"areaCode\": \"+86\"\\n            }\\n            \"email\": \"test3@apitable.com\",\\n            \"avatar\": \"https://s1.apitable.com/public/2023/05/16/00a91wbb47fd0594fbc975d2d764a45q\",\\n            \"status\": 1,\\n            \"type\": \"Member\",\\n            \"teams\": [{\\n                \"unitId\": \"aDfT7yGpJ5rVcN2xZ8nQzKuWkMl4SbH\",\\n                \"name\": \"Product team\",\\n                \"sequence\": 3,\\n                \"parentUnitId\": \"0\"\\n            }],\\n            \"roles\": [{\\n                \"unitId\": \"bV1wL8uG5iZnXz9xR7rMjYsKfPpTcHq\",\\n                \"name\": \"Product designer\",\\n                \"sequence\": 1         \\n            }]\\n          }\\n        ],\\n        \"teams\": [\\n        {\\n          \"unitId\": \"VS1SejiywaMWbiGMEHAohh62T9EPmmlh\",\\n          \"name\": \"team A\",\\n          \"sequence\": 1,\\n          \"parentUnitId\": \"0\",\\n          \"roles\": [\\n            {\\n                \"unitId\": \"bV1wL8uG5iZnXz9xR7rMjYsKfPpTcHq\",\\n                \"name\": \"Product designer\",\\n                \"sequence\": 1\\n            }\\n          ]\\n        },\\n        {\\n          \"unitId\": \"bG9xSdV1fR6pMlN2tJyXkZzW5TjHcK4\",\\n          \"name\": \"team B\",\\n          \"sequence\": 2,\\n          \"parentUnitId\": \"0\",\\n          \"roles\": [\\n            {\\n                \"unitId\": \"bV1wL8uG5iZnXz9xR7rMjYsKfPpTcHq\",\\n                \"name\": \"Product designer\",\\n                \"sequence\": 1\\n            }\\n          ]\\n        }\\n      ]\\n     }\\n   }', metadata={'source': 'https://developers.apitable.com/api/list-units-under-the-role', 'source_file': 'apitable_devbook/docs/list-units-under-the-role.md'}),\n",
       "  0.6227065324783325)]"
      ]
     },
     "execution_count": 6,
     "metadata": {},
     "output_type": "execute_result"
    }
   ],
   "source": [
    "query = \"What did the president say about Ketanji Brown Jackson\"\n",
    "similar_docs = docsearch.similarity_search_with_score(query)\n",
    "similar_docs"
   ]
  },
  {
   "cell_type": "code",
   "execution_count": 8,
   "metadata": {},
   "outputs": [
    {
     "data": {
      "text/plain": [
       "[(Document(page_content='```js\\nimport { APITable } from \\'apitable\\';\\nconst apitable = new APITable({\\n  token: \\'Your API Token\\',\\n});\\nconst datasheet = apitable.datasheet(\"dstWUHwzTHd2YQaXEE\");\\n// Get records in pages, return to the first page by default\\ndatasheet.records.query({ viewId: \"viw4mnkqkaqdh\"}).then(response => {\\nif (response.success) {\\n  console.log(response.data.records);\\n} else {\\n  console.error(response);\\n}\\n});\\n// Automatically handles paging and iteratively returns all records.\\nconst recordsIter = datasheet.records.queryAll({ viewId: \"viw4mnkqkaqdh\"})\\n// for await needs to be run in an async function and requires a browser/node version.See https://developer.mozilla.org/zh-CN/docs/Web/JavaScript/Reference/Statements/for-await... .of\\nfor await (const eachPageRecords of recordsIter){\\n  console.log(eachPageRecords)\\n}\\n```\\nThe query and queryAll methods support passing in multiple parameters to customize the set of records returned.The supported parameters are consistent with the query parameters in API Reference \"Get Records\".', metadata={'source': 'https://developers.apitable.com/api/get-records', 'source_file': 'apitable_devbook/docs/get-records.md'}),\n",
       "  0.3929165005683899),\n",
       " (Document(page_content='Note: Need to Download and initialize Javascript SDK first, and then execute the following command.\\n\\n```js\\nimport { APITable } from \\'apitable\\';\\nconst apitable = new APITable({\\n  token: \\'Your API Token\\',\\n});\\nconst datasheet = apitable.datasheet(\"dstWUHwzTHd2YQaXEE\");\\n// Get records in pages, return to the first page by default\\ndatasheet.records.query({ fields: [\"nickname\", \"age\"] }).then(response => {\\nif (response.success) {\\n  console.log(response.data.records);\\n} else {\\n  console.error(response);\\n}\\n});\\n```\\nThe query and queryAll methods support passing in multiple parameters to customize the set of records returned.The supported parameters are consistent with the query parameters in API Reference \"Get Records\".\\n\\nNote: You need to download and initialize the Python SDK first, and then execute the following command.', metadata={'source': 'https://developers.apitable.com/api/get-records', 'source_file': 'apitable_devbook/docs/get-records.md'}),\n",
       "  0.4155552089214325),\n",
       " (Document(page_content='Note: Need to Download and initialize Javascript SDK first, and then execute the following command.\\n\\n```js\\nimport { APITable } from \\'apitable\\';\\nconst apitable = new APITable({\\n  token: \\'Your API Token\\',\\n});\\nconst datasheet = apitable.datasheet(\"dstWUHwzTHd2YQaXEE\");\\ndatasheet.records.update([\\n{\\n    \"recordId\": \"recbaKEuZ9gDC\",\\n    fields:{\\n      \"Nickname\": \"An An\",\\n      \"Weight\": \"90kg\"\\n    }\\n},\\n{\\n    \"recordId\": \"rec09dm5nsmS6\",\\n    fields:{\\n      \"Nickname\": \"Jia Jia\",\\n      \"Weight\": \"90kg\"\\n    }\\n}\\n]).then(response => {\\nif (response.success) {\\n    console.log(response.data.records);\\n} else {\\n    console.error(response);\\n}\\n});\\n```', metadata={'source': 'https://developers.apitable.com/api/update-records', 'source_file': 'apitable_devbook/docs/update-records.md'}),\n",
       "  0.427191823720932),\n",
       " (Document(page_content='Note: Need to Download and initialize Javascript SDK first, and then execute the following command.\\n\\n```js\\nimport { APITable } from \\'apitable\\';\\nconst apitable = new APITable({\\n  token: \\'Your API Token\\',\\n});\\nconst datasheet = apitable.datasheet(\"dstNrmvismEKLSMn2Q\");\\n// Get records in pages, return to the first page by default\\ndatasheet.records.query({ filterByFormula: \\'OR(find(\"Vacuum\", {Main Selling Points}) > 0, find(\"Thermal insulation\", {Main Selling Points}) > 0)\\', maxRecords: 3, sort: [{\"field\": \"Promotion Price\", \"order\": \"desc\"}]}).then(response => {\\nif (response.success) {\\n  console.log(response.data.records);\\n} else {\\n  console.error(response);\\n}\\n});\\n```\\nThe query and queryAll methods support passing in multiple parameters to customize the set of records returned.The supported parameters are consistent with the query parameters in API Reference \"Get Records\".\\n\\nNote: You need to download and initialize the Python SDK first, and then execute the following command.', metadata={'source': 'https://developers.apitable.com/api/get-records', 'source_file': 'apitable_devbook/docs/get-records.md'}),\n",
       "  0.43712499737739563)]"
      ]
     },
     "execution_count": 8,
     "metadata": {},
     "output_type": "execute_result"
    }
   ],
   "source": [
    "query = \"我怎么获取表格中的记录？\"\n",
    "similar_docs = docsearch.similarity_search_with_score(query)\n",
    "similar_docs"
   ]
  },
  {
   "cell_type": "code",
   "execution_count": 9,
   "metadata": {},
   "outputs": [
    {
     "data": {
      "text/plain": [
       "[(Document(page_content='title: Get Records\\n\\nmdx-code-block\\nimport Tabs from \\'@theme/Tabs\\';\\nimport TabItem from \\'@theme/TabItem\\';\\n\\nThis text provides an example of how to call Get records interface.\\n\\nExample 1: Get all records in the specified view under the specified APITable\\n\\nSuppose you have a datasheet, and you want to get all the records in the \"Grid View\".\\n\\nYour action steps below:\\n\\nGet your API Token.(How to get it)\\n\\nGet the dastasheet ID(How to get it) and \\'Grid view\\' ID(How to get it).\\n\\nOpen the terminal on your computer, execute the following code and send the query request to the server (assuming datasheetId is dstWUHwzTH2YQaXEE, viewId is viw4mnkqkaqdh):\\n````mdx-code-block\\n<Tabs\\ngroupId=\"get records\"\\ndefaultValue=\"cURL\"\\nvalues={\\n    [\\n    { label: \"cURL\", value: \\'cURL\\', },\\n    { label: \"Javascript SDK\", value: \\'Javascript SDK\\', },\\n    { label: \"Python SDK\", value: \\'Python SDK\\', },\\n    ]\\n}', metadata={'source': 'https://developers.apitable.com/api/get-records', 'source_file': 'apitable_devbook/docs/get-records.md'}),\n",
       "  0.34609830379486084),\n",
       " (Document(page_content='Note: Need to Download and initialize Javascript SDK first, and then execute the following command.\\n\\n```js\\nimport { APITable } from \\'apitable\\';\\nconst apitable = new APITable({\\n  token: \\'Your API Token\\',\\n});\\nconst datasheet = apitable.datasheet(\"dstWUHwzTHd2YQaXEE\");\\n// Get records in pages, return to the first page by default\\ndatasheet.records.query({ fields: [\"nickname\", \"age\"] }).then(response => {\\nif (response.success) {\\n  console.log(response.data.records);\\n} else {\\n  console.error(response);\\n}\\n});\\n```\\nThe query and queryAll methods support passing in multiple parameters to customize the set of records returned.The supported parameters are consistent with the query parameters in API Reference \"Get Records\".\\n\\nNote: You need to download and initialize the Python SDK first, and then execute the following command.', metadata={'source': 'https://developers.apitable.com/api/get-records', 'source_file': 'apitable_devbook/docs/get-records.md'}),\n",
       "  0.3463706374168396),\n",
       " (Document(page_content='Note: Need to Download and initialize Javascript SDK first, and then execute the following command.\\n\\n```js\\nimport { APITable } from \\'apitable\\';\\nconst apitable = new APITable({\\n  token: \\'Your API Token\\',\\n});\\nconst datasheet = apitable.datasheet(\"dstNrmvismEKLSMn2Q\");\\n// Get records in pages, return to the first page by default\\ndatasheet.records.query({ filterByFormula: \\'OR(find(\"Vacuum\", {Main Selling Points}) > 0, find(\"Thermal insulation\", {Main Selling Points}) > 0)\\', maxRecords: 3, sort: [{\"field\": \"Promotion Price\", \"order\": \"desc\"}]}).then(response => {\\nif (response.success) {\\n  console.log(response.data.records);\\n} else {\\n  console.error(response);\\n}\\n});\\n```\\nThe query and queryAll methods support passing in multiple parameters to customize the set of records returned.The supported parameters are consistent with the query parameters in API Reference \"Get Records\".\\n\\nNote: You need to download and initialize the Python SDK first, and then execute the following command.', metadata={'source': 'https://developers.apitable.com/api/get-records', 'source_file': 'apitable_devbook/docs/get-records.md'}),\n",
       "  0.35491839051246643),\n",
       " (Document(page_content='```js\\nimport { APITable } from \\'apitable\\';\\nconst apitable = new APITable({\\n  token: \\'Your API Token\\',\\n});\\nconst datasheet = apitable.datasheet(\"dstWUHwzTHd2YQaXEE\");\\n// Get records in pages, return to the first page by default\\ndatasheet.records.query({ viewId: \"viw4mnkqkaqdh\"}).then(response => {\\nif (response.success) {\\n  console.log(response.data.records);\\n} else {\\n  console.error(response);\\n}\\n});\\n// Automatically handles paging and iteratively returns all records.\\nconst recordsIter = datasheet.records.queryAll({ viewId: \"viw4mnkqkaqdh\"})\\n// for await needs to be run in an async function and requires a browser/node version.See https://developer.mozilla.org/zh-CN/docs/Web/JavaScript/Reference/Statements/for-await... .of\\nfor await (const eachPageRecords of recordsIter){\\n  console.log(eachPageRecords)\\n}\\n```\\nThe query and queryAll methods support passing in multiple parameters to customize the set of records returned.The supported parameters are consistent with the query parameters in API Reference \"Get Records\".', metadata={'source': 'https://developers.apitable.com/api/get-records', 'source_file': 'apitable_devbook/docs/get-records.md'}),\n",
       "  0.3620142638683319)]"
      ]
     },
     "execution_count": 9,
     "metadata": {},
     "output_type": "execute_result"
    }
   ],
   "source": [
    "query = \"How can I get the records from a table?\"\n",
    "similar_docs = docsearch.similarity_search_with_score(query)\n",
    "similar_docs"
   ]
  },
  {
   "cell_type": "code",
   "execution_count": 10,
   "metadata": {},
   "outputs": [
    {
     "data": {
      "text/plain": [
       "{'answer': 'To get records from the table, you can use the `query` or `queryAll` methods with parameters to customize the set of records returned. The supported parameters are consistent with the query parameters in API Reference \"Get Records\". \\n',\n",
       " 'sources': 'https://developers.apitable.com/api/get-records'}"
      ]
     },
     "execution_count": 10,
     "metadata": {},
     "output_type": "execute_result"
    }
   ],
   "source": [
    "qa({\"question\": \"我怎么获取表格中的记录？\"}, return_only_outputs=True)"
   ]
  },
  {
   "cell_type": "code",
   "execution_count": 11,
   "metadata": {},
   "outputs": [
    {
     "data": {
      "text/plain": [
       "{'answer': 'To get the records from a table, you need to use the Get Records interface and call the query or queryAll methods with the appropriate parameters. The specific steps and code depend on the programming language and SDK being used. Sources: https://developers.apitable.com/api/get-records',\n",
       " 'sources': ''}"
      ]
     },
     "execution_count": 11,
     "metadata": {},
     "output_type": "execute_result"
    }
   ],
   "source": [
    "qa({\"question\": \"How can I get the records from a table?\"}, return_only_outputs=True)"
   ]
  }
 ],
 "metadata": {
  "kernelspec": {
   "display_name": "Python 3",
   "language": "python",
   "name": "python3"
  },
  "language_info": {
   "codemirror_mode": {
    "name": "ipython",
    "version": 3
   },
   "file_extension": ".py",
   "mimetype": "text/x-python",
   "name": "python",
   "nbconvert_exporter": "python",
   "pygments_lexer": "ipython3",
   "version": "3.10.10"
  },
  "orig_nbformat": 4
 },
 "nbformat": 4,
 "nbformat_minor": 2
}
