{
 "cells": [
  {
   "cell_type": "code",
   "execution_count": 1,
   "metadata": {},
   "outputs": [],
   "source": [
    "from langchain.chat_models import AzureChatOpenAI\n",
    "from langchain.agents import initialize_agent, AgentType\n",
    "from enum import Enum\n",
    "from pydantic import BaseModel, Field\n",
    "from typing import Type \n",
    "from langchain.tools import BaseTool\n",
    "import asyncio\n",
    "import yaml\n",
    "from enum import Enum\n",
    "from langchain.memory import ConversationBufferMemory\n",
    "from langchain.prompts import MessagesPlaceholder\n",
    "from IPython.display import Markdown"
   ]
  },
  {
   "cell_type": "code",
   "execution_count": 3,
   "metadata": {},
   "outputs": [],
   "source": [
    "# llm = ChatOpenAI(temperature=0, model=\"gpt-3.5-turbo\")\n",
    "\n",
    "DEPLOYMENT_NAME = \"gpt-35-turbo\"\n",
    "\n",
    "llm = AzureChatOpenAI(\n",
    "    deployment_name=DEPLOYMENT_NAME,\n",
    ")\n",
    "\n",
    "# Open the OpenAPI YAML file\n",
    "with open(\"openapi.yaml\", \"r\") as file:\n",
    "    # Load the YAML file using the PyYAML library\n",
    "    yaml_data = yaml.safe_load(file)"
   ]
  },
  {
   "cell_type": "code",
   "execution_count": 4,
   "metadata": {},
   "outputs": [
    {
     "data": {
      "text/plain": [
       "{'/fusion/v2/spaces/{spaceId}/nodes': {'get': {'operationId': 'search-nodes',\n",
       "   'summary': 'Search Nodes',\n",
       "   'deprecated': False,\n",
       "   'parameters': [{'name': 'spaceId',\n",
       "     'required': True,\n",
       "     'in': 'path',\n",
       "     'example': 'spczdmQDfBAn5',\n",
       "     'description': 'Space ID',\n",
       "     'schema': {'type': 'string'}},\n",
       "    {'name': 'type',\n",
       "     'required': True,\n",
       "     'in': 'query',\n",
       "     'example': 'Datasheet',\n",
       "     'description': 'The type of file node, value in (\"Folder\", \"Datasheet\", \"Form\", \"Dashboard\", \"Mirror\"). The values are case-sensitive.',\n",
       "     'schema': {'type': 'string',\n",
       "      'enum': ['Folder', 'Datasheet', 'Form', 'Dashboard', 'Mirror']}},\n",
       "    {'name': 'permissions',\n",
       "     'required': False,\n",
       "     'in': 'query',\n",
       "     'description': '0: Manager, able to add, delete views and records field, and allowed to edit fields, but unable to add and delete fields.<br/>1: Editor, able to add, delete views and records field, and allowed to edit fields, but unable to add and delete fields.<br/>2: Update-only, able to view, add and edit records, but unable to delete records.<br/>3: Read-only, only allowed to view the data.<br/>By providing the permissions associated with their API token, users can retrieve all file nodes within their account that match those permissions. If this parameter is empty, return all accessible file nodes.<br/>For example, if you want to get all file nodes where records can be added, pass the parameter like this permissions=0,1,2<br/>For more details about file node permissions can be found here: https://help.aitable.ai/docs/guide/faq-permission-settings',\n",
       "     'schema': {'type': 'array',\n",
       "      'default': [0, 1, 2, 3],\n",
       "      'items': {'type': 'number', 'enum': [0, 1, 2, 3]}}},\n",
       "    {'name': 'query',\n",
       "     'required': False,\n",
       "     'in': 'query',\n",
       "     'description': 'This parameter enables searching for file nodes with specific keywords and returns a list of matching nodes based on partial name matches.',\n",
       "     'schema': {'type': 'string'}}],\n",
       "   'responses': {'200': {'description': '',\n",
       "     'content': {'application/json': {'schema': {'$ref': '#/components/schemas/NodeInfosResp'}}}}},\n",
       "   'tags': ['Node']}}}"
      ]
     },
     "execution_count": 4,
     "metadata": {},
     "output_type": "execute_result"
    }
   ],
   "source": [
    "class APIType(str, Enum):\n",
    "    GET_RECORD = 'GET_RECORD'\n",
    "    POST_RECORD = 'POST_RECORD'\n",
    "    PATCH_RECORD = 'PATCH_RECORD'\n",
    "    DELETE_RECORD = 'DELETE_RECORD'\n",
    "    GET_FIELD = 'GET_FIELD'\n",
    "    POST_FIELD = 'POST_FIELD'\n",
    "    DELETE_FIELD = 'DELETE_FIELD'\n",
    "    GET_VIEW = 'GET_VIEW'\n",
    "    POST_DATASHEET = 'POST_DATASHEET'\n",
    "    POST_ATTACHMENT = 'POST_ATTACHMENT'\n",
    "    GET_SPACE = 'GET_SPACE'\n",
    "    GET_NODE = 'GET_NODE'\n",
    "    SEARCH_NODE = 'SEARCH_NODE'\n",
    "    GET_NODE_DETAIL = 'GET_NODE_DETAIL' \n",
    "    POST_EMDEDBLINK = 'POST_EMBEDLINK'\n",
    "    GET_EMDEDBLINK = 'GET_EMBEDLINK'\n",
    "    DELETE_EMDEDBLINK = 'DELETE_EMBEDLINK'\n",
    "\n",
    "class FindAPIInOpenAPIInput(BaseModel):\n",
    "    \"\"\"Inputs for find_api_in_openapi\"\"\"\n",
    "    type: APIType = Field(description=\"Which type of path tag are you looking for? This includes Record, Attachment, Field, Datasheet, Space, Node, Member, Team, Role and AI.\")\n",
    "\n",
    "class FindAPIInOpenAPI(BaseTool):\n",
    "    name = \"find_api_in_openapi\"\n",
    "    description = \"Useful when you want to find a path in the AITable OpenAPI spec\"\n",
    "    args_schema: Type[BaseModel] = FindAPIInOpenAPIInput\n",
    "\n",
    "    def _run(self, type: str):\n",
    "        response = self._find_type(type)\n",
    "        return response\n",
    "\n",
    "    async def _arun(self, type: str):\n",
    "        response = await asyncio.to_thread(self._find_type, type)\n",
    "        return response\n",
    "    \n",
    "    def _find_type(self, type: str)->list:\n",
    "        paths = {\n",
    "            APIType.GET_RECORD: {'get': '/fusion/v1/datasheets/{datasheetId}/records'},\n",
    "            APIType.POST_RECORD: {'post': '/fusion/v1/datasheets/{datasheetId}/records'},\n",
    "            APIType.PATCH_RECORD: {'patch': '/fusion/v1/datasheets/{datasheetId}/records'},\n",
    "            APIType.DELETE_RECORD: {'delete': '/fusion/v1/datasheets/{datasheetId}/records'},\n",
    "            APIType.GET_FIELD: {'get': '/fusion/v1/datasheets/{datasheetId}/fields'},\n",
    "            APIType.POST_FIELD: {'post': '/fusion/v1/spaces/{spaceId}/datasheets/{datasheetId}/fields'},\n",
    "            APIType.DELETE_FIELD: {'delete': '/fusion/v1/spaces/{spaceId}/datasheets/{datasheetId}/fields/{fieldId}'},\n",
    "            APIType.GET_VIEW: {'get': '/fusion/v1/datasheets/{datasheetId}/views'},\n",
    "            APIType.POST_DATASHEET: {'post': '/fusion/v1/spaces/{spaceId}/datasheets'},\n",
    "            APIType.POST_ATTACHMENT: {'post': '/fusion/v1/datasheets/{datasheetId}/attachments'},\n",
    "            APIType.GET_SPACE: {'get': '/fusion/v1/spaces'},\n",
    "            APIType.GET_NODE: {'get': '/fusion/v1/spaces/{spaceId}/nodes'},\n",
    "            APIType.SEARCH_NODE: {'get': '/fusion/v2/spaces/{spaceId}/nodes'},\n",
    "            APIType.GET_NODE_DETAIL: {'get': '/fusion/v1/spaces/{spaceId}/nodes/{nodeId}'}, \n",
    "            APIType.POST_EMDEDBLINK: {'post': '/fusion/v1/spaces/{spaceId}/nodes/{nodeId}/embedlinks'}, \n",
    "            APIType.GET_EMDEDBLINK: {'get': '/fusion/v1/spaces/{spaceId}/nodes/{nodeId}/embedlinks'}, \n",
    "            APIType.DELETE_EMDEDBLINK: {'delete': '/fusion/v1/spaces/{spaceId}/nodes/{nodeId}/embedlinks/{linkId}'}, \n",
    "        }\n",
    "\n",
    "        method, path = next(iter(paths[type].items()))\n",
    "        \n",
    "        path_data = yaml_data['paths'][path][method]\n",
    "        if 'x-codeSamples' in path_data:\n",
    "            del path_data['x-codeSamples']\n",
    "        if 'description' in path_data:\n",
    "            del path_data['description']\n",
    "\n",
    "        return {path: {method: path_data}}\n",
    "FindAPIInOpenAPI().run(tool_input={\"type\": APIType.SEARCH_NODE})"
   ]
  },
  {
   "cell_type": "code",
   "execution_count": 5,
   "metadata": {},
   "outputs": [
    {
     "data": {
      "text/plain": [
       "{'type': 'object',\n",
       " 'discriminator': {'propertyName': 'type',\n",
       "  'mapping': {'SingleText': '#/components/schemas/SingleText',\n",
       "   'Text': '#/components/schemas/Text',\n",
       "   'SingleSelect': '#/components/schemas/SingleSelect',\n",
       "   'MultiSelect': '#/components/schemas/MultiSelect',\n",
       "   'Number': '#/components/schemas/Number',\n",
       "   'Currency': '#/components/schemas/Currency',\n",
       "   'Percent': '#/components/schemas/Percent',\n",
       "   'DateTime': '#/components/schemas/DateTime',\n",
       "   'Attachment': '#/components/schemas/Attachment',\n",
       "   'Member': '#/components/schemas/Member',\n",
       "   'Checkbox': '#/components/schemas/Checkbox',\n",
       "   'Rating': '#/components/schemas/Rating',\n",
       "   'URL': '#/components/schemas/URL',\n",
       "   'Phone': '#/components/schemas/Phone',\n",
       "   'Email': '#/components/schemas/Email',\n",
       "   'OneWayLink': '#/components/schemas/OneWayLink',\n",
       "   'TwoWayLink': '#/components/schemas/TwoWayLink',\n",
       "   'MagicLookUp': '#/components/schemas/MagicLookUp',\n",
       "   'Formula': '#/components/schemas/Formula',\n",
       "   'AutoNumber': '#/components/schemas/AutoNumber',\n",
       "   'CreatedTime': '#/components/schemas/CreatedTime',\n",
       "   'LastModifiedTime': '#/components/schemas/LastModifiedTime',\n",
       "   'CreatedBy': '#/components/schemas/CreatedBy',\n",
       "   'LastModifiedBy': '#/components/schemas/LastModifiedBy'}},\n",
       " 'properties': {'type': {'type': 'string',\n",
       "   'example': 'Text',\n",
       "   'description': 'Field Type'},\n",
       "  'name': {'type': 'string',\n",
       "   'example': 'Title',\n",
       "   'description': 'Field name, no more than 100 characters'}},\n",
       " 'required': ['name', 'type']}"
      ]
     },
     "execution_count": 5,
     "metadata": {},
     "output_type": "execute_result"
    }
   ],
   "source": [
    "class FindSchemaInOpenAPIInput(BaseModel):\n",
    "    \"\"\"Inputs for find_schema_in_openapi\"\"\"\n",
    "    schema_name: str = Field(description=\"The name of the schema you are looking for, such as FieldItemRo, ApiRecordDto, etc.\")\n",
    "\n",
    "class FindSchemaInOpenAPI(BaseTool):\n",
    "    name = \"find_schema_in_openapi\"\n",
    "    description = \"Useful when you want to find certain schema in the AITable OpenAPI spec components section\"\n",
    "    args_schema: Type[BaseModel] = FindSchemaInOpenAPIInput\n",
    "\n",
    "    def _run(self, schema_name: str):\n",
    "        response = self._find_schema(schema_name)\n",
    "        return response\n",
    "\n",
    "    async def _arun(self, schema_name: str):\n",
    "        response = await asyncio.to_thread(self._find_schema, schema_name)\n",
    "        return response\n",
    "    \n",
    "    def _find_schema(self, schema_name):\n",
    "        schemas = yaml_data['components']['schemas']\n",
    "        schema_data = schemas[schema_name]\n",
    "        return schema_data\n",
    "    \n",
    "FindSchemaInOpenAPI().run(tool_input={\"schema_name\": \"FieldItemRo\"})"
   ]
  },
  {
   "cell_type": "code",
   "execution_count": 6,
   "metadata": {},
   "outputs": [],
   "source": [
    "tools = [\n",
    "    FindAPIInOpenAPI(),\n",
    "    FindSchemaInOpenAPI(),\n",
    "]\n",
    "\n",
    "memory = ConversationBufferMemory(memory_key=\"memory\", return_messages=True)\n",
    "\n",
    "memory.chat_memory.add_ai_message('''You are a QA robot that can help developers find the right API in the AITable OpenAPI spec and help them debug their API calls.\n",
    "                                  If this user does not know how to call the API, I hope you can teach him patiently.\n",
    "                                  You can only answer questions about the AITable OpenAPI, if questions are not about the AITable OpenAPI, please tell the user that you don't know.\n",
    "                                  Remember don't make up answers, if you don't know, just say you don't know.\n",
    "                                  Answer in the same language as the question.''')\n",
    "\n",
    "agent = initialize_agent(\n",
    "        tools,\n",
    "        llm,\n",
    "        agent=AgentType.OPENAI_FUNCTIONS,\n",
    "        verbose=True,\n",
    "        agent_kwargs={\n",
    "            \"extra_prompt_messages\": [MessagesPlaceholder(variable_name=\"memory\")],\n",
    "        },\n",
    "        memory=memory,\n",
    "    )"
   ]
  },
  {
   "cell_type": "code",
   "execution_count": 7,
   "metadata": {},
   "outputs": [
    {
     "name": "stdout",
     "output_type": "stream",
     "text": [
      "\n",
      "\n",
      "\u001b[1m> Entering new AgentExecutor chain...\u001b[0m\n",
      "\u001b[32;1m\u001b[1;3m\n",
      "Invoking: `find_api_in_openapi` with `{'type': 'GET_RECORD'}`\n",
      "\n",
      "\n",
      "\u001b[0m\u001b[36;1m\u001b[1;3m{'/fusion/v1/datasheets/{datasheetId}/records': {'get': {'operationId': 'get-records', 'summary': 'Get Records', 'deprecated': False, 'parameters': [{'name': 'datasheetId', 'required': True, 'in': 'path', 'example': 'dst0Yj5aNeoHldqvf6', 'description': 'AITable Datasheet ID', 'schema': {'type': 'string'}}, {'name': 'pageSize', 'required': False, 'in': 'query', 'example': 100, 'description': 'How many records are returned per page. By default, 100 records are returned per page. The value range is an integer from 1 to 1000.', 'schema': {'default': 100, 'type': 'number'}}, {'name': 'maxRecords', 'required': False, 'in': 'query', 'example': 1000, 'description': 'How many records are returned in total. If maxRecords and pageSize are used at the same time, and the value of maxRecords is less than the total number of records, only the setting of maxRecords will take effect.', 'schema': {'type': 'number'}}, {'name': 'pageNum', 'required': False, 'in': 'query', 'example': 1, 'description': \"Specifies the page number of the page, which is used in conjunction with the pageSize parameter. For example, 'pageSize=1000&pageNum=2' returns records between 1001 and 2000.\", 'schema': {'default': 1, 'type': 'number'}}, {'name': 'sort', 'required': False, 'in': 'query', 'description': 'Sort the returned records. Sort is an array of multiple sort objects.The structure of a single sort object is `{\"order\":\"asc or desc\", \"field\":\"Field name or field ID\"}`.Query Example `sort[][field]=Customer Name&sort[][order]=asc`,The returned records are sorted alphabetically in the Customer Name column.If sort and viewId are used at the same time, the sort condition specified by sort will overwrite the sort condition in the view.', 'schema': {'type': 'array', 'items': {'type': 'object'}}}, {'name': 'recordIds', 'required': False, 'in': 'query', 'example': 'rec4zxfWB5uyM', 'description': 'Returns a specified record. Example of obtaining multiple records:`&recordIds=rec4zxfWB5uyM&,reclNflLgtzjY`. The returned results are sorted according to the order in which the recordIds are passed in. No paging, up to 1000 records can be returned each time.', 'schema': {'type': 'array', 'items': {'type': 'string'}}}, {'name': 'viewId', 'required': False, 'in': 'query', 'example': 'viwG9l1VPD6nH', 'description': 'When the viewId is not explicitly specified, all records and fields are returned.When the viewId is explicitly specified, all records in the specified view will be returned in turn according to the sorting in the specified view.Note that the hidden fields in the view will not appear in the returned results.', 'schema': {'type': 'string'}}, {'name': 'fields', 'required': False, 'in': 'query', 'description': 'The returned record results are limited to the specified fields.cURL Query Example. 1. `&fields=name,age` (when `&fieldKey=name`) 2. `&fields=fldWooy3c3Puz,fldEAr5y7Go5S` (when `&fieldKey=id`).Both of the above two writing methods specify that the returned record only contains two columns 「Name」 and 「Age」.', 'schema': {'type': 'array', 'items': {'type': 'string'}}}, {'name': 'filterByFormula', 'required': False, 'in': 'query', 'description': 'Use smart formulas to filter records.The formula can be used for reference[《Formula Overview》](https://help.aitable.ai/docs/guide/manual-formula-field-overview).If filterByFormula and viewId are used at the same time, all records in the specified view that meet this formula will be returned.Query Example. `&filterByFormula={Title}=\"tittle 1\"`(You need to use the encodeURIComponent() function to escape the \\'{Title}=\"Heading 1\"\\'.) You can accurately match the record with the value of \"Heading 1\" in the \"Heading\" column.', 'schema': {'type': 'string'}}, {'name': 'cellFormat', 'required': False, 'in': 'query', 'description': 'The type of the value in the cell. The default is `json`. When `string` is specified, all values will be automatically converted to string format.\\nWhen `string` is specified, if the returned records contain date-time values, these values will use the time zone given in the following order (priority from high to low):\\n1. If the date-time field has set a time zone, use that one.\\n2. If the user has set a time zone in user settings, use that one.\\n3. Use the default time zone (UTC-5, America/Toronto).', 'schema': {'default': 'json', 'enum': ['string', 'json'], 'type': 'string'}}, {'name': 'fieldKey', 'required': False, 'in': 'query', 'description': \"The key used when querying fields and returning fields. The default is' name '(field name). When 'id' is specified, fieldId will be used as the query and return method (use 'id' can avoid code invalidation caused by modifying field names).\", 'schema': {'default': 'name', 'enum': ['name', 'id'], 'type': 'string'}}], 'responses': {'200': {'description': '', 'content': {'application/json': {'schema': {'$ref': '#/components/schemas/RecordPageVo'}}}}}, 'tags': ['Record']}}}\u001b[0m\u001b[32;1m\u001b[1;3m要获取表格中的记录，您可以使用以下API：\n",
      "\n",
      "**GET /fusion/v1/datasheets/{datasheetId}/records**\n",
      "\n",
      "- 概要：获取记录\n",
      "- 参数：\n",
      "  - datasheetId（路径参数，必填）：AITable表格的ID。\n",
      "  - pageSize（查询参数，可选）：每页返回的记录数量，默认为100条。\n",
      "  - maxRecords（查询参数，可选）：总共返回的记录数量。如果同时使用maxRecords和pageSize参数，并且maxRecords的值小于记录的总数，那么只有maxRecords的设置会生效。\n",
      "  - pageNum（查询参数，可选）：指定页码，与pageSize参数一起使用。例如，'pageSize=1000&pageNum=2'将返回1001到2000之间的记录。\n",
      "  - sort（查询参数，可选）：对返回的记录进行排序。sort是多个排序对象的数组。单个排序对象的结构为`{\"order\":\"asc或desc\", \"field\":\"字段名或字段ID\"}`。例如，`sort[][field]=Customer Name&sort[][order]=asc`将按照Customer Name列的字母顺序对返回的记录进行排序。如果同时使用sort和viewId参数，那么sort指定的排序条件将覆盖视图中的排序条件。\n",
      "  - recordIds（查询参数，可选）：返回指定的记录。获取多条记录的示例：`&recordIds=rec4zxfWB5uyM&,reclNflLgtzjY`。返回的结果按照recordIds传入的顺序进行排序，不进行分页，每次最多可以返回1000条记录。\n",
      "  - viewId（查询参数，可选）：当未明确指定viewId时，将返回所有记录和字段。当明确指定viewId时，将按照指定视图中的排序顺序依次返回指定视图中的所有记录。请注意，视图中隐藏的字段不会出现在返回的结果中。\n",
      "  - fields（查询参数，可选）：限制返回记录结果中包含的字段。示例：`&fields=name,age`（当`&fieldKey=name`）或`&fields=fldWooy3c3Puz,fldEAr5y7Go5S`（当`&fieldKey=id`）。上述两种写法都指定返回的记录只包含「Name」和「Age」两列。\n",
      "  - filterByFormula（查询参数，可选）：使用智能公式筛选记录。公式的用法可以参考[《公式概述》](https://help.aitable.ai/docs/guide/manual-formula-field-overview)。如果同时使用filterByFormula和viewId参数，将返回满足该公式的指定视图中的所有记录。查询示例：`&filterByFormula={Title}=\\\"tittle 1\\\"`（需要使用encodeURIComponent()函数对`{Title}=\\\"Heading 1\\\"`进行转义）。可以精确匹配「Heading」列中值为「Heading 1」的记录。\n",
      "  - cellFormat（查询参数，可选）：单元格中值的类型。默认为`json`。当指定为`string`时，所有的值都会自动转换为字符串格式。当指定为`string`时，如果返回的记录中包含日期时间值，这些值将按照以下顺序使用给定的时区（优先级从高到低）：1. 如果日期时间字段设置了时区，则使用该时区。2. 如果用户在用户设置中设置了时区，则使用该时区。3. 使用默认时区（UTC-5，America/Toronto）。\n",
      "  - fieldKey（查询参数，可选）：查询字段和返回字段时使用的键。默认为`name`（字段名）。当指定为`id`时，将使用fieldId作为查询和返回方式（使用`id`可以避免因修改字段名而导致的代码失效）。\n",
      "\n",
      "- 响应：返回记录的分页结果，具体的响应结构请参考API文档。\n",
      "\n",
      "请注意替换`{datasheetId}`为您需要获取记录的表格的实际ID。\u001b[0m\n",
      "\n",
      "\u001b[1m> Finished chain.\u001b[0m\n"
     ]
    },
    {
     "data": {
      "text/markdown": [
       "要获取表格中的记录，您可以使用以下API：\n",
       "\n",
       "**GET /fusion/v1/datasheets/{datasheetId}/records**\n",
       "\n",
       "- 概要：获取记录\n",
       "- 参数：\n",
       "  - datasheetId（路径参数，必填）：AITable表格的ID。\n",
       "  - pageSize（查询参数，可选）：每页返回的记录数量，默认为100条。\n",
       "  - maxRecords（查询参数，可选）：总共返回的记录数量。如果同时使用maxRecords和pageSize参数，并且maxRecords的值小于记录的总数，那么只有maxRecords的设置会生效。\n",
       "  - pageNum（查询参数，可选）：指定页码，与pageSize参数一起使用。例如，'pageSize=1000&pageNum=2'将返回1001到2000之间的记录。\n",
       "  - sort（查询参数，可选）：对返回的记录进行排序。sort是多个排序对象的数组。单个排序对象的结构为`{\"order\":\"asc或desc\", \"field\":\"字段名或字段ID\"}`。例如，`sort[][field]=Customer Name&sort[][order]=asc`将按照Customer Name列的字母顺序对返回的记录进行排序。如果同时使用sort和viewId参数，那么sort指定的排序条件将覆盖视图中的排序条件。\n",
       "  - recordIds（查询参数，可选）：返回指定的记录。获取多条记录的示例：`&recordIds=rec4zxfWB5uyM&,reclNflLgtzjY`。返回的结果按照recordIds传入的顺序进行排序，不进行分页，每次最多可以返回1000条记录。\n",
       "  - viewId（查询参数，可选）：当未明确指定viewId时，将返回所有记录和字段。当明确指定viewId时，将按照指定视图中的排序顺序依次返回指定视图中的所有记录。请注意，视图中隐藏的字段不会出现在返回的结果中。\n",
       "  - fields（查询参数，可选）：限制返回记录结果中包含的字段。示例：`&fields=name,age`（当`&fieldKey=name`）或`&fields=fldWooy3c3Puz,fldEAr5y7Go5S`（当`&fieldKey=id`）。上述两种写法都指定返回的记录只包含「Name」和「Age」两列。\n",
       "  - filterByFormula（查询参数，可选）：使用智能公式筛选记录。公式的用法可以参考[《公式概述》](https://help.aitable.ai/docs/guide/manual-formula-field-overview)。如果同时使用filterByFormula和viewId参数，将返回满足该公式的指定视图中的所有记录。查询示例：`&filterByFormula={Title}=\\\"tittle 1\\\"`（需要使用encodeURIComponent()函数对`{Title}=\\\"Heading 1\\\"`进行转义）。可以精确匹配「Heading」列中值为「Heading 1」的记录。\n",
       "  - cellFormat（查询参数，可选）：单元格中值的类型。默认为`json`。当指定为`string`时，所有的值都会自动转换为字符串格式。当指定为`string`时，如果返回的记录中包含日期时间值，这些值将按照以下顺序使用给定的时区（优先级从高到低）：1. 如果日期时间字段设置了时区，则使用该时区。2. 如果用户在用户设置中设置了时区，则使用该时区。3. 使用默认时区（UTC-5，America/Toronto）。\n",
       "  - fieldKey（查询参数，可选）：查询字段和返回字段时使用的键。默认为`name`（字段名）。当指定为`id`时，将使用fieldId作为查询和返回方式（使用`id`可以避免因修改字段名而导致的代码失效）。\n",
       "\n",
       "- 响应：返回记录的分页结果，具体的响应结构请参考API文档。\n",
       "\n",
       "请注意替换`{datasheetId}`为您需要获取记录的表格的实际ID。"
      ],
      "text/plain": [
       "<IPython.core.display.Markdown object>"
      ]
     },
     "execution_count": 7,
     "metadata": {},
     "output_type": "execute_result"
    }
   ],
   "source": [
    "Markdown(agent.run(\"我怎么获取表格中的记录？\"))"
   ]
  },
  {
   "cell_type": "code",
   "execution_count": 8,
   "metadata": {},
   "outputs": [
    {
     "name": "stdout",
     "output_type": "stream",
     "text": [
      "\n",
      "\n",
      "\u001b[1m> Entering new AgentExecutor chain...\u001b[0m\n",
      "\u001b[32;1m\u001b[1;3m\n",
      "Invoking: `find_api_in_openapi` with `{'type': 'GET_RECORD'}`\n",
      "\n",
      "\n",
      "\u001b[0m\u001b[36;1m\u001b[1;3m{'/fusion/v1/datasheets/{datasheetId}/records': {'get': {'operationId': 'get-records', 'summary': 'Get Records', 'deprecated': False, 'parameters': [{'name': 'datasheetId', 'required': True, 'in': 'path', 'example': 'dst0Yj5aNeoHldqvf6', 'description': 'AITable Datasheet ID', 'schema': {'type': 'string'}}, {'name': 'pageSize', 'required': False, 'in': 'query', 'example': 100, 'description': 'How many records are returned per page. By default, 100 records are returned per page. The value range is an integer from 1 to 1000.', 'schema': {'default': 100, 'type': 'number'}}, {'name': 'maxRecords', 'required': False, 'in': 'query', 'example': 1000, 'description': 'How many records are returned in total. If maxRecords and pageSize are used at the same time, and the value of maxRecords is less than the total number of records, only the setting of maxRecords will take effect.', 'schema': {'type': 'number'}}, {'name': 'pageNum', 'required': False, 'in': 'query', 'example': 1, 'description': \"Specifies the page number of the page, which is used in conjunction with the pageSize parameter. For example, 'pageSize=1000&pageNum=2' returns records between 1001 and 2000.\", 'schema': {'default': 1, 'type': 'number'}}, {'name': 'sort', 'required': False, 'in': 'query', 'description': 'Sort the returned records. Sort is an array of multiple sort objects.The structure of a single sort object is `{\"order\":\"asc or desc\", \"field\":\"Field name or field ID\"}`.Query Example `sort[][field]=Customer Name&sort[][order]=asc`,The returned records are sorted alphabetically in the Customer Name column.If sort and viewId are used at the same time, the sort condition specified by sort will overwrite the sort condition in the view.', 'schema': {'type': 'array', 'items': {'type': 'object'}}}, {'name': 'recordIds', 'required': False, 'in': 'query', 'example': 'rec4zxfWB5uyM', 'description': 'Returns a specified record. Example of obtaining multiple records:`&recordIds=rec4zxfWB5uyM&,reclNflLgtzjY`. The returned results are sorted according to the order in which the recordIds are passed in. No paging, up to 1000 records can be returned each time.', 'schema': {'type': 'array', 'items': {'type': 'string'}}}, {'name': 'viewId', 'required': False, 'in': 'query', 'example': 'viwG9l1VPD6nH', 'description': 'When the viewId is not explicitly specified, all records and fields are returned.When the viewId is explicitly specified, all records in the specified view will be returned in turn according to the sorting in the specified view.Note that the hidden fields in the view will not appear in the returned results.', 'schema': {'type': 'string'}}, {'name': 'fields', 'required': False, 'in': 'query', 'description': 'The returned record results are limited to the specified fields.cURL Query Example. 1. `&fields=name,age` (when `&fieldKey=name`) 2. `&fields=fldWooy3c3Puz,fldEAr5y7Go5S` (when `&fieldKey=id`).Both of the above two writing methods specify that the returned record only contains two columns 「Name」 and 「Age」.', 'schema': {'type': 'array', 'items': {'type': 'string'}}}, {'name': 'filterByFormula', 'required': False, 'in': 'query', 'description': 'Use smart formulas to filter records.The formula can be used for reference[《Formula Overview》](https://help.aitable.ai/docs/guide/manual-formula-field-overview).If filterByFormula and viewId are used at the same time, all records in the specified view that meet this formula will be returned.Query Example. `&filterByFormula={Title}=\"tittle 1\"`(You need to use the encodeURIComponent() function to escape the \\'{Title}=\"Heading 1\"\\'.) You can accurately match the record with the value of \"Heading 1\" in the \"Heading\" column.', 'schema': {'type': 'string'}}, {'name': 'cellFormat', 'required': False, 'in': 'query', 'description': 'The type of the value in the cell. The default is `json`. When `string` is specified, all values will be automatically converted to string format.\\nWhen `string` is specified, if the returned records contain date-time values, these values will use the time zone given in the following order (priority from high to low):\\n1. If the date-time field has set a time zone, use that one.\\n2. If the user has set a time zone in user settings, use that one.\\n3. Use the default time zone (UTC-5, America/Toronto).', 'schema': {'default': 'json', 'enum': ['string', 'json'], 'type': 'string'}}, {'name': 'fieldKey', 'required': False, 'in': 'query', 'description': \"The key used when querying fields and returning fields. The default is' name '(field name). When 'id' is specified, fieldId will be used as the query and return method (use 'id' can avoid code invalidation caused by modifying field names).\", 'schema': {'default': 'name', 'enum': ['name', 'id'], 'type': 'string'}}], 'responses': {'200': {'description': '', 'content': {'application/json': {'schema': {'$ref': '#/components/schemas/RecordPageVo'}}}}}, 'tags': ['Record']}}}\u001b[0m\u001b[32;1m\u001b[1;3mTo get the records from a table, you can use the following API:\n",
      "\n",
      "**GET /fusion/v1/datasheets/{datasheetId}/records**\n",
      "\n",
      "- Summary: Get Records\n",
      "- Parameters:\n",
      "  - datasheetId (path parameter, required): The ID of the AITable datasheet.\n",
      "  - pageSize (query parameter, optional): The number of records returned per page. By default, 100 records are returned per page. The value range is an integer from 1 to 1000.\n",
      "  - maxRecords (query parameter, optional): The total number of records returned. If both maxRecords and pageSize parameters are used, and the value of maxRecords is less than the total number of records, only the setting of maxRecords will take effect.\n",
      "  - pageNum (query parameter, optional): Specifies the page number, used in conjunction with the pageSize parameter. For example, 'pageSize=1000&pageNum=2' returns records between 1001 and 2000.\n",
      "  - sort (query parameter, optional): Sort the returned records. Sort is an array of multiple sort objects. The structure of a single sort object is `{\"order\":\"asc or desc\", \"field\":\"Field name or field ID\"}`. For example, `sort[][field]=Customer Name&sort[][order]=asc` sorts the returned records alphabetically in the Customer Name column. If both sort and viewId parameters are used, the sort condition specified by sort will overwrite the sort condition in the view.\n",
      "  - recordIds (query parameter, optional): Returns a specified record. Example of obtaining multiple records: `&recordIds=rec4zxfWB5uyM&,reclNflLgtzjY`. The returned results are sorted according to the order in which the recordIds are passed in. No paging, up to 1000 records can be returned each time.\n",
      "  - viewId (query parameter, optional): When the viewId is not explicitly specified, all records and fields are returned. When the viewId is explicitly specified, all records in the specified view will be returned in turn according to the sorting in the specified view. Note that the hidden fields in the view will not appear in the returned results.\n",
      "  - fields (query parameter, optional): The returned record results are limited to the specified fields. Examples: `&fields=name,age` (when `&fieldKey=name`) or `&fields=fldWooy3c3Puz,fldEAr5y7Go5S` (when `&fieldKey=id`). Both of the above methods specify that the returned record only contains two columns \"Name\" and \"Age\".\n",
      "  - filterByFormula (query parameter, optional): Use smart formulas to filter records. The formula can be referred to in the [Formula Overview](https://help.aitable.ai/docs/guide/manual-formula-field-overview). If both filterByFormula and viewId parameters are used, all records in the specified view that meet this formula will be returned. Example: `&filterByFormula={Title}=\\\"tittle 1\\\"` (You need to use the encodeURIComponent() function to escape the '{Title}=\\\"Heading 1\\\"'). You can accurately match the record with the value of \"Heading 1\" in the \"Heading\" column.\n",
      "  - cellFormat (query parameter, optional): The type of the value in the cell. The default is `json`. When `string` is specified, all values will be automatically converted to string format. When `string` is specified, if the returned records contain date-time values, these values will use the time zone given in the following order (priority from high to low): 1. If the date-time field has set a time zone, use that one. 2. If the user has set a time zone in user settings, use that one. 3. Use the default time zone (UTC-5, America/Toronto).\n",
      "  - fieldKey (query parameter, optional): The key used when querying fields and returning fields. The default is 'name' (field name). When 'id' is specified, fieldId will be used as the query and return method (using 'id' can avoid code invalidation caused by modifying field names).\n",
      "\n",
      "- Response: Returns the paginated result of records. Please refer to the API documentation for the specific response structure.\n",
      "\n",
      "Please replace `{datasheetId}` with the actual ID of the table from which you want to get the records.\u001b[0m\n",
      "\n",
      "\u001b[1m> Finished chain.\u001b[0m\n"
     ]
    },
    {
     "data": {
      "text/markdown": [
       "To get the records from a table, you can use the following API:\n",
       "\n",
       "**GET /fusion/v1/datasheets/{datasheetId}/records**\n",
       "\n",
       "- Summary: Get Records\n",
       "- Parameters:\n",
       "  - datasheetId (path parameter, required): The ID of the AITable datasheet.\n",
       "  - pageSize (query parameter, optional): The number of records returned per page. By default, 100 records are returned per page. The value range is an integer from 1 to 1000.\n",
       "  - maxRecords (query parameter, optional): The total number of records returned. If both maxRecords and pageSize parameters are used, and the value of maxRecords is less than the total number of records, only the setting of maxRecords will take effect.\n",
       "  - pageNum (query parameter, optional): Specifies the page number, used in conjunction with the pageSize parameter. For example, 'pageSize=1000&pageNum=2' returns records between 1001 and 2000.\n",
       "  - sort (query parameter, optional): Sort the returned records. Sort is an array of multiple sort objects. The structure of a single sort object is `{\"order\":\"asc or desc\", \"field\":\"Field name or field ID\"}`. For example, `sort[][field]=Customer Name&sort[][order]=asc` sorts the returned records alphabetically in the Customer Name column. If both sort and viewId parameters are used, the sort condition specified by sort will overwrite the sort condition in the view.\n",
       "  - recordIds (query parameter, optional): Returns a specified record. Example of obtaining multiple records: `&recordIds=rec4zxfWB5uyM&,reclNflLgtzjY`. The returned results are sorted according to the order in which the recordIds are passed in. No paging, up to 1000 records can be returned each time.\n",
       "  - viewId (query parameter, optional): When the viewId is not explicitly specified, all records and fields are returned. When the viewId is explicitly specified, all records in the specified view will be returned in turn according to the sorting in the specified view. Note that the hidden fields in the view will not appear in the returned results.\n",
       "  - fields (query parameter, optional): The returned record results are limited to the specified fields. Examples: `&fields=name,age` (when `&fieldKey=name`) or `&fields=fldWooy3c3Puz,fldEAr5y7Go5S` (when `&fieldKey=id`). Both of the above methods specify that the returned record only contains two columns \"Name\" and \"Age\".\n",
       "  - filterByFormula (query parameter, optional): Use smart formulas to filter records. The formula can be referred to in the [Formula Overview](https://help.aitable.ai/docs/guide/manual-formula-field-overview). If both filterByFormula and viewId parameters are used, all records in the specified view that meet this formula will be returned. Example: `&filterByFormula={Title}=\\\"tittle 1\\\"` (You need to use the encodeURIComponent() function to escape the '{Title}=\\\"Heading 1\\\"'). You can accurately match the record with the value of \"Heading 1\" in the \"Heading\" column.\n",
       "  - cellFormat (query parameter, optional): The type of the value in the cell. The default is `json`. When `string` is specified, all values will be automatically converted to string format. When `string` is specified, if the returned records contain date-time values, these values will use the time zone given in the following order (priority from high to low): 1. If the date-time field has set a time zone, use that one. 2. If the user has set a time zone in user settings, use that one. 3. Use the default time zone (UTC-5, America/Toronto).\n",
       "  - fieldKey (query parameter, optional): The key used when querying fields and returning fields. The default is 'name' (field name). When 'id' is specified, fieldId will be used as the query and return method (using 'id' can avoid code invalidation caused by modifying field names).\n",
       "\n",
       "- Response: Returns the paginated result of records. Please refer to the API documentation for the specific response structure.\n",
       "\n",
       "Please replace `{datasheetId}` with the actual ID of the table from which you want to get the records."
      ],
      "text/plain": [
       "<IPython.core.display.Markdown object>"
      ]
     },
     "execution_count": 8,
     "metadata": {},
     "output_type": "execute_result"
    }
   ],
   "source": [
    "Markdown(agent.run(\"How can I get the records from a table?\"))"
   ]
  },
  {
   "cell_type": "code",
   "execution_count": 9,
   "metadata": {},
   "outputs": [
    {
     "name": "stdout",
     "output_type": "stream",
     "text": [
      "\n",
      "\n",
      "\u001b[1m> Entering new AgentExecutor chain...\u001b[0m\n",
      "\u001b[32;1m\u001b[1;3m很抱歉，我无法回答有关小程序的问题。我的专长是关于AITable OpenAPI的知识。如果您有关于AITable OpenAPI的问题，我会很乐意帮助您。\u001b[0m\n",
      "\n",
      "\u001b[1m> Finished chain.\u001b[0m\n"
     ]
    },
    {
     "data": {
      "text/markdown": [
       "很抱歉，我无法回答有关小程序的问题。我的专长是关于AITable OpenAPI的知识。如果您有关于AITable OpenAPI的问题，我会很乐意帮助您。"
      ],
      "text/plain": [
       "<IPython.core.display.Markdown object>"
      ]
     },
     "execution_count": 9,
     "metadata": {},
     "output_type": "execute_result"
    }
   ],
   "source": [
    "Markdown(agent.run(\"小程序怎么用？\"))"
   ]
  },
  {
   "cell_type": "code",
   "execution_count": 10,
   "metadata": {},
   "outputs": [
    {
     "name": "stdout",
     "output_type": "stream",
     "text": [
      "\n",
      "\n",
      "\u001b[1m> Entering new AgentExecutor chain...\u001b[0m\n",
      "\u001b[32;1m\u001b[1;3mAITable是一个低代码开发平台，它可以帮助用户快速构建和定制各种业务应用。AITable提供了一套易于使用的工具和功能，使用户可以创建、管理和操作数据表、字段、视图和记录，同时还支持自定义业务逻辑和应用程序集成。\n",
      "\n",
      "AITable的主要特点和功能包括：\n",
      "- 数据表和字段管理：用户可以创建和定义数据表，添加和配置各种字段类型，如文本、数字、日期、选择等。\n",
      "- 视图和过滤器：用户可以创建和管理视图，定义视图的排序、筛选和显示字段，以便根据不同的需求查看和操作数据。\n",
      "- 记录管理：用户可以创建、编辑和删除记录，对记录进行排序、筛选和搜索，并可以通过批量操作来处理大量的记录。\n",
      "- 自定义业务逻辑：用户可以使用自定义公式字段和触发器来定义和自动化业务逻辑，例如计算字段、验证规则和自动化操作。\n",
      "- 应用程序集成：AITable提供了丰富的API和Webhook功能，可以与其他应用程序和服务集成，实现数据的导入、导出、同步和自动化。\n",
      "- 团队协作和权限管理：用户可以邀请团队成员共同协作，管理和分配不同的角色和权限，确保数据的安全和私密性。\n",
      "\n",
      "AITable旨在简化应用程序开发过程，提高开发效率，并使非技术人员也能够轻松创建和管理自己的业务应用。无论是构建内部管理系统、客户关系管理、项目管理、任务跟踪还是其他各种业务应用，AITable都可以提供强大的功能和灵活性。\u001b[0m\n",
      "\n",
      "\u001b[1m> Finished chain.\u001b[0m\n"
     ]
    },
    {
     "data": {
      "text/markdown": [
       "AITable是一个低代码开发平台，它可以帮助用户快速构建和定制各种业务应用。AITable提供了一套易于使用的工具和功能，使用户可以创建、管理和操作数据表、字段、视图和记录，同时还支持自定义业务逻辑和应用程序集成。\n",
       "\n",
       "AITable的主要特点和功能包括：\n",
       "- 数据表和字段管理：用户可以创建和定义数据表，添加和配置各种字段类型，如文本、数字、日期、选择等。\n",
       "- 视图和过滤器：用户可以创建和管理视图，定义视图的排序、筛选和显示字段，以便根据不同的需求查看和操作数据。\n",
       "- 记录管理：用户可以创建、编辑和删除记录，对记录进行排序、筛选和搜索，并可以通过批量操作来处理大量的记录。\n",
       "- 自定义业务逻辑：用户可以使用自定义公式字段和触发器来定义和自动化业务逻辑，例如计算字段、验证规则和自动化操作。\n",
       "- 应用程序集成：AITable提供了丰富的API和Webhook功能，可以与其他应用程序和服务集成，实现数据的导入、导出、同步和自动化。\n",
       "- 团队协作和权限管理：用户可以邀请团队成员共同协作，管理和分配不同的角色和权限，确保数据的安全和私密性。\n",
       "\n",
       "AITable旨在简化应用程序开发过程，提高开发效率，并使非技术人员也能够轻松创建和管理自己的业务应用。无论是构建内部管理系统、客户关系管理、项目管理、任务跟踪还是其他各种业务应用，AITable都可以提供强大的功能和灵活性。"
      ],
      "text/plain": [
       "<IPython.core.display.Markdown object>"
      ]
     },
     "execution_count": 10,
     "metadata": {},
     "output_type": "execute_result"
    }
   ],
   "source": [
    "Markdown(agent.run(\"AITable 是什么\"))"
   ]
  },
  {
   "cell_type": "code",
   "execution_count": 11,
   "metadata": {},
   "outputs": [
    {
     "name": "stdout",
     "output_type": "stream",
     "text": [
      "\n",
      "\n",
      "\u001b[1m> Entering new AgentExecutor chain...\u001b[0m\n",
      "\u001b[32;1m\u001b[1;3m要获取API Token，您可以按照以下步骤进行操作：\n",
      "\n",
      "1. 登录到AITable平台账户。\n",
      "2. 在顶部导航栏中，点击用户头像或用户名，然后选择\"用户设置\"。\n",
      "3. 在用户设置页面中，选择\"API Token\"选项卡。\n",
      "4. 如果您之前没有生成过API Token，点击\"生成API Token\"按钮。\n",
      "5. 在弹出的对话框中，输入一个描述，以便识别和区分不同的API Token。\n",
      "6. 点击\"确认\"按钮生成API Token。\n",
      "7. 生成的API Token将显示在页面上。请注意，API Token只会显示一次，所以请确保妥善保存它。如果您忘记了API Token，您需要重新生成一个新的API Token。\n",
      "\n",
      "请注意，API Token具有访问和控制您的AITable数据的权限，请确保妥善保管和使用它，避免泄露给未授权的人员。如果您怀疑API Token已经泄露或不再需要使用，建议立即撤销或生成一个新的API Token。\u001b[0m\n",
      "\n",
      "\u001b[1m> Finished chain.\u001b[0m\n"
     ]
    },
    {
     "data": {
      "text/markdown": [
       "要获取API Token，您可以按照以下步骤进行操作：\n",
       "\n",
       "1. 登录到AITable平台账户。\n",
       "2. 在顶部导航栏中，点击用户头像或用户名，然后选择\"用户设置\"。\n",
       "3. 在用户设置页面中，选择\"API Token\"选项卡。\n",
       "4. 如果您之前没有生成过API Token，点击\"生成API Token\"按钮。\n",
       "5. 在弹出的对话框中，输入一个描述，以便识别和区分不同的API Token。\n",
       "6. 点击\"确认\"按钮生成API Token。\n",
       "7. 生成的API Token将显示在页面上。请注意，API Token只会显示一次，所以请确保妥善保存它。如果您忘记了API Token，您需要重新生成一个新的API Token。\n",
       "\n",
       "请注意，API Token具有访问和控制您的AITable数据的权限，请确保妥善保管和使用它，避免泄露给未授权的人员。如果您怀疑API Token已经泄露或不再需要使用，建议立即撤销或生成一个新的API Token。"
      ],
      "text/plain": [
       "<IPython.core.display.Markdown object>"
      ]
     },
     "execution_count": 11,
     "metadata": {},
     "output_type": "execute_result"
    }
   ],
   "source": [
    "Markdown(agent.run(\"怎么获取 API Token？\"))"
   ]
  },
  {
   "cell_type": "code",
   "execution_count": 12,
   "metadata": {},
   "outputs": [
    {
     "name": "stdout",
     "output_type": "stream",
     "text": [
      "\n",
      "\n",
      "\u001b[1m> Entering new AgentExecutor chain...\u001b[0m\n",
      "\u001b[32;1m\u001b[1;3m要获取筛选后的记录，您可以使用AITable的API来实现。以下是一种常见的方法：\n",
      "\n",
      "1. 首先，您需要调用获取记录的API：GET /fusion/v1/datasheets/{datasheetId}/records。\n",
      "2. 在API的查询参数中，使用`filterByFormula`参数来指定筛选条件。您可以使用AITable的智能公式语法来构建筛选条件。例如，`&filterByFormula={Status}='Completed'`表示筛选出\"Status\"字段值为\"Completed\"的记录。\n",
      "3. 调用API，并将所需的参数传递给API。根据您的需求，您还可以设置其他参数，如pageSize、sort等。\n",
      "4. API将返回符合筛选条件的记录列表。\n",
      "\n",
      "请注意，根据您的具体情况，可能还需要提供其他必要的参数，如数据表ID（{datasheetId}）等。确保替换API路径中的占位符，并根据需要提供其他必要的参数。\n",
      "\n",
      "详细的API文档可以在AITable的开发者文档中找到，其中包含了更多关于API的详细信息和示例。\u001b[0m\n",
      "\n",
      "\u001b[1m> Finished chain.\u001b[0m\n"
     ]
    },
    {
     "data": {
      "text/markdown": [
       "要获取筛选后的记录，您可以使用AITable的API来实现。以下是一种常见的方法：\n",
       "\n",
       "1. 首先，您需要调用获取记录的API：GET /fusion/v1/datasheets/{datasheetId}/records。\n",
       "2. 在API的查询参数中，使用`filterByFormula`参数来指定筛选条件。您可以使用AITable的智能公式语法来构建筛选条件。例如，`&filterByFormula={Status}='Completed'`表示筛选出\"Status\"字段值为\"Completed\"的记录。\n",
       "3. 调用API，并将所需的参数传递给API。根据您的需求，您还可以设置其他参数，如pageSize、sort等。\n",
       "4. API将返回符合筛选条件的记录列表。\n",
       "\n",
       "请注意，根据您的具体情况，可能还需要提供其他必要的参数，如数据表ID（{datasheetId}）等。确保替换API路径中的占位符，并根据需要提供其他必要的参数。\n",
       "\n",
       "详细的API文档可以在AITable的开发者文档中找到，其中包含了更多关于API的详细信息和示例。"
      ],
      "text/plain": [
       "<IPython.core.display.Markdown object>"
      ]
     },
     "execution_count": 12,
     "metadata": {},
     "output_type": "execute_result"
    }
   ],
   "source": [
    "Markdown(agent.run(\"我想要获取筛选后的记录，该怎么办？\"))"
   ]
  }
 ],
 "metadata": {
  "kernelspec": {
   "display_name": "usr",
   "language": "python",
   "name": "python3"
  },
  "language_info": {
   "codemirror_mode": {
    "name": "ipython",
    "version": 3
   },
   "file_extension": ".py",
   "mimetype": "text/x-python",
   "name": "python",
   "nbconvert_exporter": "python",
   "pygments_lexer": "ipython3",
   "version": "3.11.2"
  }
 },
 "nbformat": 4,
 "nbformat_minor": 2
}
