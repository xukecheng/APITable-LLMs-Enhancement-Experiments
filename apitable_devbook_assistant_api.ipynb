{
 "cells": [
  {
   "cell_type": "code",
   "execution_count": 2,
   "metadata": {},
   "outputs": [],
   "source": [
    "from openai import OpenAI\n",
    "client = OpenAI()"
   ]
  },
  {
   "cell_type": "code",
   "execution_count": 3,
   "metadata": {},
   "outputs": [],
   "source": [
    "import yaml\n",
    "import json\n",
    "\n",
    "# Load YAML file into a Python dictionary\n",
    "with open('openapi.yaml', 'r') as f:\n",
    "    data = yaml.safe_load(f)\n",
    "\n",
    "# Dump dictionary to JSON string\n",
    "json_data = json.dumps(data)\n",
    "\n",
    "# Save JSON data to a file\n",
    "with open('openapi.json', 'w') as f:\n",
    "    f.write(json_data)"
   ]
  },
  {
   "cell_type": "code",
   "execution_count": 4,
   "metadata": {},
   "outputs": [],
   "source": [
    "file = client.files.create(\n",
    "  file=open(\"openapi.json\", \"rb\"),\n",
    "  purpose='assistants'\n",
    ")"
   ]
  },
  {
   "cell_type": "code",
   "execution_count": 5,
   "metadata": {},
   "outputs": [],
   "source": [
    "# Add the file to the assistant\n",
    "assistant = client.beta.assistants.create(\n",
    "  instructions=\"You are a customer support chatbot. Use your knowledge base to best respond to customer queries.\",\n",
    "  model=\"gpt-4-1106-preview\",\n",
    "  tools=[{\"type\": \"retrieval\"}],\n",
    "  file_ids=[file.id]\n",
    ")"
   ]
  },
  {
   "cell_type": "code",
   "execution_count": 31,
   "metadata": {},
   "outputs": [],
   "source": [
    "thread = client.beta.threads.create(\n",
    "  messages=[\n",
    "    {\n",
    "      \"role\": \"user\",\n",
    "      \"content\": \"我怎么获取表格中的记录？\"\n",
    "    }\n",
    "  ]\n",
    ")"
   ]
  },
  {
   "cell_type": "code",
   "execution_count": 48,
   "metadata": {},
   "outputs": [
    {
     "data": {
      "text/plain": [
       "Run(id='run_ENxhHVULpzNGQYVCXOivLx4U', assistant_id='asst_Z8yYwdnCRbD6TMwVLeMR1Xr1', cancelled_at=None, completed_at=None, created_at=1699339333, expires_at=1699339933, failed_at=None, file_ids=['file-4sQLDuiL9YboiszFLU8pKk8K'], instructions='You are a customer support chatbot. Use your knowledge base to best respond to customer queries.', last_error=None, metadata={}, model='gpt-4-1106-preview', object='thread.run', required_action=None, started_at=None, status='queued', thread_id='thread_YGrc1zPbhZLYyjadrQ0cTr9w', tools=[ToolAssistantToolsRetrieval(type='retrieval')])"
      ]
     },
     "execution_count": 48,
     "metadata": {},
     "output_type": "execute_result"
    }
   ],
   "source": [
    "client.beta.threads.runs.create(\n",
    "  thread_id=thread.id,\n",
    "  assistant_id=assistant.id\n",
    ")"
   ]
  },
  {
   "cell_type": "code",
   "execution_count": 52,
   "metadata": {},
   "outputs": [
    {
     "data": {
      "text/plain": [
       "[MessageContentText(text=Text(annotations=[TextAnnotationFileCitation(end_index=86, file_citation=TextAnnotationFileCitationFileCitation(file_id='file-4sQLDuiL9YboiszFLU8pKk8K', quote='RecordCreateRo\": {\"type\": \"object\" \"properties\": {\"records\": {\"description\": \"The record data to be created including the recorded fields and field values'), start_index=75, text='【10†source】', type='file_citation')], value='要获取表格中的记录，您需要使用提供的 API 的 `RecordCreateRo` 部分。在这一部分中，将包括要创建的记录数据，包括记录的字段和字段值【10†source】。如果您需要具体的 API 调用方法或想要了解如何构造请求以获取记录，我需要更多的具体信息或文件内容来提供进一步的帮助。'), type='text')]"
      ]
     },
     "execution_count": 52,
     "metadata": {},
     "output_type": "execute_result"
    }
   ],
   "source": [
    "client.beta.threads.messages.list(thread_id=thread.id).data[0].content"
   ]
  },
  {
   "cell_type": "code",
   "execution_count": null,
   "metadata": {},
   "outputs": [],
   "source": [
    "thread2 = client.beta.threads.create(\n",
    "  messages=[\n",
    "    {\n",
    "      \"role\": \"user\",\n",
    "      \"content\": \"How do I get the records in the table?\"\n",
    "    }\n",
    "  ]\n",
    ")\n",
    "run = client.beta.threads.runs.create(\n",
    "  thread_id=thread2.id,\n",
    "  assistant_id=assistant.id\n",
    ")"
   ]
  },
  {
   "cell_type": "code",
   "execution_count": 79,
   "metadata": {},
   "outputs": [
    {
     "data": {
      "text/plain": [
       "[MessageContentText(text=Text(annotations=[TextAnnotationFileCitation(end_index=1279, file_citation=TextAnnotationFileCitationFileCitation(file_id='file-4sQLDuiL9YboiszFLU8pKk8K', quote='fusion/v1/datasheets/{datasheetId}/records\": {\"get\": {\"operationId\": \"get-records\" \"summary\": \"Get Records\" \"description\": {\"$ref\": \"./api/get-records.md\"} \"deprecated\": false \"parameters\": [{\"name\": \"datasheetId\" \"required\": true \"in\": \"path\" \"example\": \"dst0Yj5aNeoHldqvf6\" \"description\": \"AITable Datasheet ID\" \"schema\": {\"type\": \"string\"}} {\"name\": \"pageSize\" \"required\": false \"in\": \"query\" \"example\": 100 \"description\": \"How many records are returned per page. By default 100 records are returned per page. The value range is an integer from 1 to 1000.\" \"schema\": {\"default\": 100 \"type\": \"number\"}} {\"name\": \"maxRecords\" \"required\": false \"in\": \"query\" \"example\": 1000 \"description\": \"How many records are returned in total. If maxRecords and pageSize are used at the same time and the value of maxRecords is less than the total number of records only the setting of maxRecords will take effect.\" \"schema\": {\"type\": \"number\"}} {\"name\": \"pageNum\" \"required\": false \"in\": \"query\" \"example\": 1 \"description\": \"Specifies the page number of the page which is used in conjunction with the pageSize parameter. For example \\'pageSize=1000&pageNum=2\\' returns records between 1001 and 2000.\" \"schema\": {\"default\": 1 \"type\": \"number\"}} {\"name\": \"sort\" \"required\": false \"in\": \"query\" \"description\": \"Sort the returned records. Sort is an array of multiple sort objects.The structure of a single sort object is `{\\\\\"order\\\\\":\\\\\"asc or desc\\\\\" \\\\\"field\\\\\":\\\\\"Field name or field ID\\\\\"}`.Query Example `sort[][field]=Customer Name&sort[][order]=asc`The returned records are sorted alphabetically in the Customer Name column.If sort and viewId are used at the same time the sort condition specified by sort will overwrite the sort condition in the view.\" \"schema\": {\"type\": \"array\" \"items\": {\"type\": \"object\"}}} {\"name\": \"recordIds\" \"required\": false \"in\": \"query\" \"example\": \"rec4zxfWB5uyM\" \"description\": \"Returns a specified record. Example of obtaining multiple records:`&recordIds=rec4zxfWB5uyM&reclNflLgtzjY`. The returned results are sorted according to the order in which the recordIds are passed in. No paging up to 1000 records can be returned each time.\" \"schema\": {\"type\": \"array\" \"items\": {\"type\": \"string\"}}} {\"name\": \"viewId\" \"required\": false \"in\": \"query\" \"example\": \"viwG9l1VPD6nH\" \"description\": \"When the viewId is not explicitly specified all records and fields are returned.When the viewId is explicitly specified all records in the specified view will be returned in turn according to the sorting in the specified view.Note that the hidden fields in the view will not appear in the returned results.\" \"schema\": {\"type\": \"string\"}} {\"name\": \"fields\" \"required\": false \"in\": \"query\" \"description\": \"The returned record results are limited to the specified fields.cURL Query Example. 1. `&fields=nameage` (when `&fieldKey=name`) 2. `&fields=fldWooy3c3PuzfldEAr5y7Go5S` (when `&fieldKey=id`).Both of the above two writing methods specify that the returned record only contains two columns \\\\u300cName\\\\u300d and \\\\u300cAge\\\\u300d.\" \"schema\": {\"type\": \"array\" \"items\": {\"type\": \"string\"}}} {\"name\": \"filterByFormula\" \"required\": false \"in\": \"query\" \"description\": \"Use smart formulas to filter records.The formula can be used for reference[\\\\u300aFormula Overview\\\\u300b](https://help.aitable.ai/docs/guide/manual-formula-field-overview).If filterByFormula and viewId are used at the same time all records in the specified view that meet this formula will be returned.Query Example. `&filterByFormula={Title}=\\\\\"tittle 1\\\\\"`(You need to use the encodeURIComponent() function to escape the \\'{Title}=\\\\\"Heading 1\\\\\"\\'.) You can accurately match the record with the value of \\\\\"Heading 1\\\\\" in the \\\\\"Heading\\\\\" column.\" \"schema\": {\"type\": \"string\"}} {\"name\": \"cellFormat\" \"required\": false \"in\": \"query\" \"description\": \"The type of the value in the cell. The default is `json`. When `string` is specified all values will be automatically converted to string format.\\\\nWhen `string` is specified if the returned records contain date-time values these values will use the time zone given in the following order (priority from high to low):\\\\n1. If the date-time field has set a time zone use that one.\\\\n2. If the user has set a time zone in user settings use that one.\\\\n3. Use the default time zone (UTC-5 America/Toronto'), start_index=1269, text='【9†source】', type='file_citation')], value='To get records in the table from the API, you need to make a GET request to the `/fusion/v1/datasheets/{datasheetId}/records` endpoint with various query parameters that you can configure:\\n\\n- **datasheetId**: The AITable Datasheet ID (required)\\n- **pageSize**: The number of records returned per page (1 to 1000, default is 100)\\n- **maxRecords**: The total number of records returned (if less than the total number of records, this value will take precedence)\\n- **pageNum**: The page number when used with pageSize (for pagination)\\n- **sort**: An array of sort objects to sort the returned records (optional)\\n- **recordIds**: Specify certain records to return (optional)\\n- **viewId**: Specify if you want to return all records from a view (optional)\\n- **fields**: Limit the returned records to specific fields (optional)\\n- **filterByFormula**: Use smart formulas to filter records (optional)\\n- **cellFormat**: Specify the value type in the cell (`json` or `string`, default is `json`)\\n\\nFor example, if you need to return records sorted alphabetically by \"Customer Name\" in ascending order, you would include a sort parameter in your query like: `sort[][field]=Customer Name&sort[][order]=asc`.\\n\\nMake sure to replace `{datasheetId}` with the actual ID of your datasheet 【9†source】.'), type='text')]"
      ]
     },
     "execution_count": 79,
     "metadata": {},
     "output_type": "execute_result"
    }
   ],
   "source": [
    "client.beta.threads.messages.list(thread_id=thread2.id).data[0].content"
   ]
  }
 ],
 "metadata": {
  "kernelspec": {
   "display_name": ".venv",
   "language": "python",
   "name": "python3"
  },
  "language_info": {
   "codemirror_mode": {
    "name": "ipython",
    "version": 3
   },
   "file_extension": ".py",
   "mimetype": "text/x-python",
   "name": "python",
   "nbconvert_exporter": "python",
   "pygments_lexer": "ipython3",
   "version": "3.11.2"
  }
 },
 "nbformat": 4,
 "nbformat_minor": 2
}
