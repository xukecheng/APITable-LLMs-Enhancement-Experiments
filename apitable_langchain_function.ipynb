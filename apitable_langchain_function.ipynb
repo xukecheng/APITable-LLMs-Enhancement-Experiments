{
 "cells": [
  {
   "cell_type": "code",
   "execution_count": 1,
   "metadata": {},
   "outputs": [],
   "source": [
    "from langchain.agents import initialize_agent, Tool, AgentType\n",
    "from langchain.tools import StructuredTool\n",
    "from langchain.chat_models import ChatOpenAI\n",
    "import os\n",
    "import json\n",
    "from apitable import Apitable\n",
    "import tiktoken\n",
    "from typing import Optional\n",
    "from pydantic import BaseModel, Field"
   ]
  },
  {
   "cell_type": "code",
   "execution_count": 2,
   "metadata": {},
   "outputs": [],
   "source": [
    "llm = ChatOpenAI(temperature=0, model=\"gpt-3.5-turbo-16k-0613\")\n",
    "apitable_api_token = os.getenv(\"APITABLE_API_TOKEN\")\n",
    "apitable = Apitable(token=apitable_api_token)"
   ]
  },
  {
   "cell_type": "code",
   "execution_count": 3,
   "metadata": {},
   "outputs": [],
   "source": [
    "class RecordQueryCondition(BaseModel):\n",
    "    datasheet_id: str = Field(..., description=\"The ID of the datasheet to retrieve records from.\")\n",
    "    filter_condition: Optional[dict] = Field(None, description=\"Find records that meet specific conditions, This object should contain a key-value pair where the key is the field name and the value is the lookup value.\")\n",
    "    sort_condition: Optional[list[dict]] = Field(\n",
    "        None,\n",
    "        description=\"Sort returned records by specific field\",\n",
    "        items={\n",
    "            \"type\": \"object\",\n",
    "            \"properties\": {\n",
    "                \"field\": {\n",
    "                    \"type\": \"string\",\n",
    "                    \"description\": \"Field name\",\n",
    "                },\n",
    "                \"order\": {\n",
    "                    \"type\": \"string\",\n",
    "                    \"description\": \"Sort order\",\n",
    "                    \"enum\": [\"desc\", \"asc\"]\n",
    "                }\n",
    "            }\n",
    "        },\n",
    "    )\n",
    "    maxRecords_condition: Optional[int]= Field(None, description=\"Limit the number of returned values\")\n",
    "\n",
    "def trans_key(field_key_map, key: str):\n",
    "    \"\"\"\n",
    "    When there is a field mapping, convert the mapped key to the actual key\n",
    "    \"\"\"\n",
    "    if key in [\"_id\", \"recordId\"]:\n",
    "        return key\n",
    "    if field_key_map:\n",
    "        _key = field_key_map.get(key, key)\n",
    "        return _key\n",
    "    return key\n",
    "\n",
    "def query_parse(field_key_map, **kwargs) -> str:\n",
    "    query_list = []\n",
    "    for k, v in kwargs.items():\n",
    "        # Handling null\n",
    "        if v is None:\n",
    "            v = \"BLANK()\"\n",
    "        # Handling string\n",
    "        elif isinstance(v, str):\n",
    "            v = f'\"{v}\"'\n",
    "        elif isinstance(v, bool):\n",
    "            v = \"TRUE()\" if v else \"FALSE()\"\n",
    "        # Handling array type values, multiple select, members?\n",
    "        elif isinstance(v, list):\n",
    "            v = f'\"{\", \".join(v)}\"'\n",
    "        query_list.append(f\"{{{trans_key(field_key_map, k)}}}={v}\")\n",
    "    if len(query_list) == 1:\n",
    "        return query_list[0]\n",
    "    else:\n",
    "        qs = \",\".join(query_list)\n",
    "        return f\"AND({qs})\"\n",
    "\n",
    "def count_tokens(s):\n",
    "    return len(enc.encode(s))\n",
    "\n",
    "enc = tiktoken.encoding_for_model(\"text-davinci-003\")\n",
    "\n",
    "def get_spaces(question: str):\n",
    "    spaces = apitable.spaces.all()\n",
    "    return [json.loads(space.json()) for space in spaces]\n",
    "\n",
    "def get_nodes(space_id: str):\n",
    "    nodes = apitable.space(space_id=space_id).nodes.all()\n",
    "    return [json.loads(node.json()) for node in nodes]\n",
    "\n",
    "def get_fields(datasheet_id: str):\n",
    "    fields = apitable.datasheet(datasheet_id).fields.all()\n",
    "    return [json.loads(field.json()) for field in fields]\n",
    "\n",
    "def create_fields(space_id: str, datasheet_id: str, field_data: dict[str, str]):\n",
    "    field = (\n",
    "        apitable.space(space_id)\n",
    "        .datasheet(datasheet_id)\n",
    "        .fields.create(field_data)\n",
    "    )\n",
    "    return field.json()\n",
    "\n",
    "def get_records(datasheet_id:str, filter_condition: Optional[dict]= None, sort_condition: Optional[list] = None, maxRecords_condition: Optional[int] = None):\n",
    "    dst = apitable.datasheet(datasheet_id)\n",
    "    query_kwargs = {}\n",
    "    if filter_condition:\n",
    "        query_formula = query_parse(filter_condition)\n",
    "        query_kwargs[\"filterByFormula\"] = query_formula\n",
    "    if sort_condition:\n",
    "        query_kwargs[\"sort\"] = sort_condition\n",
    "    if maxRecords_condition:\n",
    "        query_kwargs[\"maxRecords\"] = maxRecords_condition\n",
    "    records = dst.records.all(**query_kwargs)\n",
    "    parsed_records = [record.json() for record in records]\n",
    "    # return parsed_records\n",
    "    if count_tokens(str(parsed_records)) > 1000:\n",
    "        parsed_records_str = (\n",
    "            \"Found \"\n",
    "            + str(len(parsed_records))\n",
    "            + \" records, too many to show. Try to use maxRecords or filter_condition to limit\"\n",
    "        )\n",
    "        return parsed_records_str\n",
    "    else:\n",
    "        return parsed_records\n",
    "    \n",
    "tools = [\n",
    "    Tool(\n",
    "        name = \"get_spaces\",\n",
    "        func=get_spaces,\n",
    "        description=\"useful for accessing all spaces the user has access to. Input should be in the form of a question containing full context\",\n",
    "    ),\n",
    "    Tool(\n",
    "        name=\"get_nodes\",\n",
    "        func=get_nodes,\n",
    "        description=\"useful for retrieving all file nodes in a space\"\n",
    "    ),\n",
    "    Tool(\n",
    "        name=\"get_fields\",\n",
    "        func=get_fields,\n",
    "        description=\"useful for retrieving fields in a datasheet\"\n",
    "    ),\n",
    "    # Tool(\n",
    "    #     name=\"create_fields\",\n",
    "    #     func=create_fields.run,\n",
    "    #     description=\"useful for when you need to answer questions about FooBar. Input should be in the form of a question containing full context\"\n",
    "    # ),\n",
    "    # Tool(\n",
    "    #     name=\"get_records\",\n",
    "    #     func=get_records,\n",
    "    #     description=\"\"\"\n",
    "    #     useful for retrieving data in a datasheet\n",
    "    #     filter_condition should contain a key-value pair where the key is the field name and the value is the lookup value.\n",
    "    #     sort_condition should contain a list of object where each dictionary contains a key-value pair where the key is the field name and the value is asc or desc.\n",
    "    #     \"\"\",\n",
    "    #     args_schema=RecordQueryCondition\n",
    "    # )\n",
    "    StructuredTool(func=get_records, name=\"get_records\", description=\"useful for retrieving data in a datasheet\", args_schema=RecordQueryCondition)\n",
    "]\n",
    "\n",
    "mrkl = initialize_agent(tools, llm, agent=AgentType.OPENAI_FUNCTIONS, verbose=True)"
   ]
  },
  {
   "cell_type": "code",
   "execution_count": 4,
   "metadata": {},
   "outputs": [
    {
     "name": "stdout",
     "output_type": "stream",
     "text": [
      "\n",
      "\n",
      "\u001b[1m> Entering new  chain...\u001b[0m\n",
      "\u001b[32;1m\u001b[1;3m\n",
      "Invoking: `get_spaces` with `What spaces do I have?`\n",
      "\n",
      "\n",
      "\u001b[0m\u001b[36;1m\u001b[1;3m[{'id': 'spctqtTZpssYw', 'name': \"xukecheng's Space\", 'isAdmin': True}, {'id': 'spcS0eZxZ8mSA', 'name': 'APITable Ltd.', 'isAdmin': None}, {'id': 'spcGSVizcwRYF', 'name': 'Gmail Space', 'isAdmin': None}, {'id': 'spcV5VkzU71Lf', 'name': 'test03-bug验证升级', 'isAdmin': None}]\u001b[0m\u001b[32;1m\u001b[1;3mYou have the following spaces:\n",
      "\n",
      "1. xukecheng's Space\n",
      "2. APITable Ltd.\n",
      "3. Gmail Space\n",
      "4. test03-bug验证升级\n",
      "\n",
      "Let me know if you need any further assistance.\u001b[0m\n",
      "\n",
      "\u001b[1m> Finished chain.\u001b[0m\n"
     ]
    },
    {
     "data": {
      "text/plain": [
       "\"You have the following spaces:\\n\\n1. xukecheng's Space\\n2. APITable Ltd.\\n3. Gmail Space\\n4. test03-bug验证升级\\n\\nLet me know if you need any further assistance.\""
      ]
     },
     "execution_count": 4,
     "metadata": {},
     "output_type": "execute_result"
    }
   ],
   "source": [
    "mrkl.run(\"What spaces do I have?\")"
   ]
  },
  {
   "cell_type": "code",
   "execution_count": 5,
   "metadata": {},
   "outputs": [
    {
     "name": "stdout",
     "output_type": "stream",
     "text": [
      "\n",
      "\n",
      "\u001b[1m> Entering new  chain...\u001b[0m\n",
      "\u001b[32;1m\u001b[1;3m\n",
      "Invoking: `get_spaces` with `xukecheng`\n",
      "\n",
      "\n",
      "\u001b[0m\u001b[36;1m\u001b[1;3m[{'id': 'spctqtTZpssYw', 'name': \"xukecheng's Space\", 'isAdmin': True}, {'id': 'spcS0eZxZ8mSA', 'name': 'APITable Ltd.', 'isAdmin': None}, {'id': 'spcGSVizcwRYF', 'name': 'Gmail Space', 'isAdmin': None}, {'id': 'spcV5VkzU71Lf', 'name': 'test03-bug验证升级', 'isAdmin': None}]\u001b[0m\u001b[32;1m\u001b[1;3m\n",
      "Invoking: `get_nodes` with `spctqtTZpssYw`\n",
      "\n",
      "\n",
      "\u001b[0m\u001b[33;1m\u001b[1;3m[{'id': 'dstZTEueDaWedFWgbh', 'name': 'Project management', 'type': 'Datasheet', 'icon': '', 'isFav': False}, {'id': 'fodHl5i2LeMBH', 'name': 'Make Test', 'type': 'Folder', 'icon': '', 'isFav': False}, {'id': 'fomh7eepvbqkBrwCvW', 'name': 'Form', 'type': 'Form', 'icon': '', 'isFav': False}, {'id': 'dstFQKumRsAp4p5RBE', 'name': 'AITEST', 'type': 'Datasheet', 'icon': '', 'isFav': False}, {'id': 'dstWuVdBJNDzpjn8ck', 'name': 'email_oss', 'type': 'Datasheet', 'icon': '', 'isFav': False}, {'id': 'dsti6VpNpuKQpHVSnh', 'name': 'APITable MAUs', 'type': 'Datasheet', 'icon': '', 'isFav': False}]\u001b[0m\u001b[32;1m\u001b[1;3m\n",
      "Invoking: `get_records` with `{'datasheet_id': 'dsti6VpNpuKQpHVSnh', 'maxRecords_condition': 1}`\n",
      "\n",
      "\n",
      "\u001b[0m\u001b[36;1m\u001b[1;3m[{'Created time': 1676013813777, 'MAU': 1}]\u001b[0m\u001b[32;1m\u001b[1;3mThe latest value of APITable MAU in xukecheng's space is 1.\u001b[0m\n",
      "\n",
      "\u001b[1m> Finished chain.\u001b[0m\n"
     ]
    },
    {
     "data": {
      "text/plain": [
       "\"The latest value of APITable MAU in xukecheng's space is 1.\""
      ]
     },
     "execution_count": 5,
     "metadata": {},
     "output_type": "execute_result"
    }
   ],
   "source": [
    "mrkl.run(\"Tell me the latest value of APITable MAU in xukecheng's space\")"
   ]
  }
 ],
 "metadata": {
  "kernelspec": {
   "display_name": "Python 3",
   "language": "python",
   "name": "python3"
  },
  "language_info": {
   "codemirror_mode": {
    "name": "ipython",
    "version": 3
   },
   "file_extension": ".py",
   "mimetype": "text/x-python",
   "name": "python",
   "nbconvert_exporter": "python",
   "pygments_lexer": "ipython3",
   "version": "3.10.10"
  },
  "orig_nbformat": 4
 },
 "nbformat": 4,
 "nbformat_minor": 2
}
