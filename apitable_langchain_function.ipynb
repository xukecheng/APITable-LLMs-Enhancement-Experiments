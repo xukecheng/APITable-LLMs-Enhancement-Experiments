{
 "cells": [
  {
   "cell_type": "code",
   "execution_count": 1,
   "metadata": {},
   "outputs": [],
   "source": [
    "from langchain.agents import initialize_agent, Tool\n",
    "from langchain.agents import AgentType\n",
    "from langchain.chat_models import ChatOpenAI\n",
    "import os\n",
    "import json\n",
    "from apitable import Apitable\n",
    "import tiktoken"
   ]
  },
  {
   "cell_type": "code",
   "execution_count": 14,
   "metadata": {},
   "outputs": [],
   "source": [
    "llm = ChatOpenAI(temperature=0, model=\"gpt-3.5-turbo-16k-0613\")\n",
    "apitable_api_token = os.getenv(\"APITABLE_API_TOKEN\")\n",
    "apitable = Apitable(token=apitable_api_token)"
   ]
  },
  {
   "cell_type": "code",
   "execution_count": 15,
   "metadata": {},
   "outputs": [],
   "source": [
    "def trans_key(field_key_map, key: str):\n",
    "    \"\"\"\n",
    "    When there is a field mapping, convert the mapped key to the actual key\n",
    "    \"\"\"\n",
    "    if key in [\"_id\", \"recordId\"]:\n",
    "        return key\n",
    "    if field_key_map:\n",
    "        _key = field_key_map.get(key, key)\n",
    "        return _key\n",
    "    return key\n",
    "\n",
    "def query_parse(field_key_map, **kwargs) -> str:\n",
    "    query_list = []\n",
    "    for k, v in kwargs.items():\n",
    "        # Handling null\n",
    "        if v is None:\n",
    "            v = \"BLANK()\"\n",
    "        # Handling string\n",
    "        elif isinstance(v, str):\n",
    "            v = f'\"{v}\"'\n",
    "        elif isinstance(v, bool):\n",
    "            v = \"TRUE()\" if v else \"FALSE()\"\n",
    "        # Handling array type values, multiple select, members?\n",
    "        elif isinstance(v, list):\n",
    "            v = f'\"{\", \".join(v)}\"'\n",
    "        query_list.append(f\"{{{trans_key(field_key_map, k)}}}={v}\")\n",
    "    if len(query_list) == 1:\n",
    "        return query_list[0]\n",
    "    else:\n",
    "        qs = \",\".join(query_list)\n",
    "        return f\"AND({qs})\"\n",
    "\n",
    "def count_tokens(s):\n",
    "    return len(enc.encode(s))\n",
    "\n",
    "enc = tiktoken.encoding_for_model(\"text-davinci-003\")\n",
    "\n",
    "def get_spaces(question: str):\n",
    "    spaces = apitable.spaces.all()\n",
    "    return [json.loads(space.json()) for space in spaces]\n",
    "\n",
    "def get_nodes(space_id: str):\n",
    "    nodes = apitable.space(space_id=space_id).nodes.all()\n",
    "    return [json.loads(node.json()) for node in nodes]\n",
    "\n",
    "def get_fields(datasheet_id: str):\n",
    "    fields = apitable.datasheet(datasheet_id).fields.all()\n",
    "    return [json.loads(field.json()) for field in fields]\n",
    "\n",
    "def create_fields(space_id: str, datasheet_id: str, field_data: dict[str, str]):\n",
    "    field = (\n",
    "        apitable.space(space_id)\n",
    "        .datasheet(datasheet_id)\n",
    "        .fields.create(field_data)\n",
    "    )\n",
    "    return field.json()\n",
    "\n",
    "def get_records(datasheet_id:str, filter_condition: dict = None, sort_condition: list = None, maxRecords_condition: int = None):\n",
    "    dst = apitable.datasheet(datasheet_id)\n",
    "    query_kwargs = {}\n",
    "    if filter_condition:\n",
    "        query_formula = query_parse(filter_condition)\n",
    "        query_kwargs[\"filterByFormula\"] = query_formula\n",
    "    if sort_condition:\n",
    "        query_kwargs[\"sort\"] = sort_condition\n",
    "    if maxRecords_condition:\n",
    "        query_kwargs[\"maxRecords\"] = maxRecords_condition\n",
    "    records = dst.records.all(**query_kwargs)\n",
    "    parsed_records = [record.json() for record in records]\n",
    "    return parsed_records\n",
    "    \n",
    "tools = [\n",
    "    Tool(\n",
    "        name = \"get_spaces\",\n",
    "        func=get_spaces,\n",
    "        description=\"useful for accessing all spaces the user has access to. Input should be in the form of a question containing full context\"\n",
    "    ),\n",
    "    Tool(\n",
    "        name=\"get_nodes\",\n",
    "        func=get_nodes,\n",
    "        description=\"useful for retrieving all file nodes in a space\"\n",
    "    ),\n",
    "    Tool(\n",
    "        name=\"get_fields\",\n",
    "        func=get_fields,\n",
    "        description=\"useful for retrieving fields in a datasheet\"\n",
    "    ),\n",
    "    Tool(\n",
    "        name=\"get_records\",\n",
    "        func=get_records,\n",
    "        description=\"\"\"\n",
    "        useful for retrieving data in a datasheet\n",
    "        filter_condition should contain a key-value pair where the key is the field name and the value is the lookup value.\n",
    "        sort_condition should contain a list of object where each dictionary contains a key-value pair where the key is the field name and the value is asc or desc.\n",
    "        \"\"\"\n",
    "    )\n",
    "]\n",
    "\n",
    "mrkl = initialize_agent(tools, llm, agent=AgentType.OPENAI_FUNCTIONS, verbose=True)"
   ]
  },
  {
   "cell_type": "code",
   "execution_count": 9,
   "metadata": {},
   "outputs": [
    {
     "name": "stdout",
     "output_type": "stream",
     "text": [
      "\n",
      "\n",
      "\u001b[1m> Entering new  chain...\u001b[0m\n",
      "\u001b[32;1m\u001b[1;3m\n",
      "Invoking: `get_spaces` with `What spaces do I have?`\n",
      "\n",
      "\n",
      "\u001b[0m\u001b[36;1m\u001b[1;3m[{'id': 'spctqtTZpssYw', 'name': \"xukecheng's Space\", 'isAdmin': True}, {'id': 'spcS0eZxZ8mSA', 'name': 'APITable Ltd.', 'isAdmin': None}, {'id': 'spcGSVizcwRYF', 'name': 'Gmail Space', 'isAdmin': None}, {'id': 'spcV5VkzU71Lf', 'name': 'test03-bug验证升级', 'isAdmin': None}]\u001b[0m\u001b[32;1m\u001b[1;3mYou have the following spaces:\n",
      "\n",
      "1. xukecheng's Space\n",
      "2. APITable Ltd.\n",
      "3. Gmail Space\n",
      "4. test03-bug验证升级\n",
      "\n",
      "Let me know if you need any further assistance.\u001b[0m\n",
      "\n",
      "\u001b[1m> Finished chain.\u001b[0m\n"
     ]
    },
    {
     "data": {
      "text/plain": [
       "\"You have the following spaces:\\n\\n1. xukecheng's Space\\n2. APITable Ltd.\\n3. Gmail Space\\n4. test03-bug验证升级\\n\\nLet me know if you need any further assistance.\""
      ]
     },
     "execution_count": 9,
     "metadata": {},
     "output_type": "execute_result"
    }
   ],
   "source": [
    "mrkl.run(\"What spaces do I have?\")"
   ]
  },
  {
   "cell_type": "code",
   "execution_count": 16,
   "metadata": {},
   "outputs": [
    {
     "name": "stdout",
     "output_type": "stream",
     "text": [
      "\n",
      "\n",
      "\u001b[1m> Entering new  chain...\u001b[0m\n",
      "\u001b[32;1m\u001b[1;3m\n",
      "Invoking: `get_spaces` with `xukecheng`\n",
      "\n",
      "\n",
      "\u001b[0m\u001b[36;1m\u001b[1;3m[{'id': 'spctqtTZpssYw', 'name': \"xukecheng's Space\", 'isAdmin': True}, {'id': 'spcS0eZxZ8mSA', 'name': 'APITable Ltd.', 'isAdmin': None}, {'id': 'spcGSVizcwRYF', 'name': 'Gmail Space', 'isAdmin': None}, {'id': 'spcV5VkzU71Lf', 'name': 'test03-bug验证升级', 'isAdmin': None}]\u001b[0m\u001b[32;1m\u001b[1;3m\n",
      "Invoking: `get_nodes` with `spctqtTZpssYw`\n",
      "\n",
      "\n",
      "\u001b[0m\u001b[33;1m\u001b[1;3m[{'id': 'dstZTEueDaWedFWgbh', 'name': 'Project management', 'type': 'Datasheet', 'icon': '', 'isFav': False}, {'id': 'fodHl5i2LeMBH', 'name': 'Make Test', 'type': 'Folder', 'icon': '', 'isFav': False}, {'id': 'fomh7eepvbqkBrwCvW', 'name': 'Form', 'type': 'Form', 'icon': '', 'isFav': False}, {'id': 'dstFQKumRsAp4p5RBE', 'name': 'AITEST', 'type': 'Datasheet', 'icon': '', 'isFav': False}, {'id': 'dstWuVdBJNDzpjn8ck', 'name': 'email_oss', 'type': 'Datasheet', 'icon': '', 'isFav': False}, {'id': 'dsti6VpNpuKQpHVSnh', 'name': 'APITable MAUs', 'type': 'Datasheet', 'icon': '', 'isFav': False}]\u001b[0m\u001b[32;1m\u001b[1;3m\n",
      "Invoking: `get_records` with `dsti6VpNpuKQpHVSnh`\n",
      "\n",
      "\n",
      "\u001b[0m\u001b[36;1m\u001b[1;3m[{'Created time': 1676013813777, 'MAU': 1}, {'Created time': 1676015942014, 'MAU': 2}, {'Created time': 1676018145224, 'MAU': 3}, {'Created time': 1676019303168, 'MAU': 4}, {'Created time': 1676020011565, 'MAU': 5}, {'Created time': 1676022248024, 'MAU': 6}, {'Created time': 1676024930016, 'MAU': 7}, {'Created time': 1676026422356, 'MAU': 8}, {'Created time': 1676029735308, 'MAU': 9}, {'Created time': 1676033077920, 'MAU': 10}, {'Created time': 1676036596623, 'MAU': 11}, {'Created time': 1676038092241, 'MAU': 12}, {'Created time': 1676042764291, 'MAU': 13}, {'Created time': 1676045152659, 'MAU': 14}, {'Created time': 1676047001767, 'MAU': 15}, {'Created time': 1676092689138, 'MAU': 16}, {'Created time': 1676349074397, 'MAU': 17}, {'Created time': 1676356796985, 'MAU': 18}, {'Created time': 1676360935965, 'MAU': 19}, {'Created time': 1676364451445, 'MAU': 20}, {'Created time': 1676367828284, 'MAU': 21}, {'Created time': 1676379700713, 'MAU': 22}, {'Created time': 1676384721754, 'MAU': 23}, {'Created time': 1676409183616, 'MAU': 24}, {'Created time': 1676427120149, 'MAU': 25}, {'Created time': 1676431311671, 'MAU': 26}, {'Created time': 1676445905761, 'MAU': 27}, {'Created time': 1676451670872, 'MAU': 28}, {'Created time': 1676460534435, 'MAU': 29}, {'Created time': 1676467651213, 'MAU': 30}, {'Created time': 1676486208499, 'MAU': 31}, {'Created time': 1676511755194, 'MAU': 32}, {'Created time': 1676515618221, 'MAU': 33}, {'Created time': 1676518533530, 'MAU': 34}, {'Created time': 1676519333393, 'MAU': 35}, {'Created time': 1676520481190, 'MAU': 36}, {'Created time': 1676522906073, 'MAU': 37}, {'Created time': 1676525910975, 'MAU': 38}, {'Created time': 1676529821079, 'MAU': 39}, {'Created time': 1676533962887, 'MAU': 40}, {'Created time': 1676535113969, 'MAU': 41}, {'Created time': 1676539573328, 'MAU': 42}, {'Created time': 1676543299627, 'MAU': 43}, {'Created time': 1676603598071, 'MAU': 44}, {'Created time': 1676603699460, 'MAU': 45}, {'Created time': 1676617991817, 'MAU': 46}, {'Created time': 1676769969453, 'MAU': 47}, {'Created time': 1676923431471, 'MAU': 48}, {'Created time': 1676923431938, 'MAU': 49}, {'Created time': 1677047627455, 'MAU': 50}, {'Created time': 1677174649677, 'MAU': 51}, {'Created time': 1677366960733, 'MAU': 52}, {'Created time': 1677479935734, 'MAU': 53}, {'Created time': 1677485288325, 'MAU': 54}, {'Created time': 1677492334497, 'MAU': 55}, {'Created time': 1677508234446, 'MAU': 56}, {'Created time': 1677544332825, 'MAU': 57}, {'Created time': 1677551828841, 'MAU': 58}, {'Created time': 1677564487628, 'MAU': 59}, {'Created time': 1677571750483, 'MAU': 60}, {'Created time': 1677589174653, 'MAU': 61}, {'Created time': 1677589174381, 'MAU': 62}, {'Created time': 1677596411723, 'MAU': 63}, {'Created time': 1677632514138, 'MAU': 64}, {'Created time': 1677638826773, 'MAU': 65}, {'Created time': 1677644797002, 'MAU': 66}, {'Created time': 1677659762619, 'MAU': 67}, {'Created time': 1677666942725, 'MAU': 68}, {'Created time': 1677683061648, 'MAU': 69}, {'Created time': 1677728422321, 'MAU': 70}, {'Created time': 1677742417627, 'MAU': 71}, {'Created time': 1677755370555, 'MAU': 72}, {'Created time': 1677769414126, 'MAU': 73}, {'Created time': 1677796304315, 'MAU': 74}, {'Created time': 1677813331985, 'MAU': 75}, {'Created time': 1677830392326, 'MAU': 76}, {'Created time': 1677854002580, 'MAU': 77}, {'Created time': 1677874745690, 'MAU': 78}, {'Created time': 1677897427159, 'MAU': 79}, {'Created time': 1677916792373, 'MAU': 80}, {'Created time': 1677945940270, 'MAU': 81}, {'Created time': 1677983407041, 'MAU': 82}, {'Created time': 1678024959614, 'MAU': 83}, {'Created time': 1678067441964, 'MAU': 84}, {'Created time': 1678082046636, 'MAU': 85}, {'Created time': 1678094629809, 'MAU': 86}, {'Created time': 1678118833471, 'MAU': 87}, {'Created time': 1678156161087, 'MAU': 88}, {'Created time': 1678161370389, 'MAU': 89}, {'Created time': 1678176852227, 'MAU': 90}, {'Created time': 1678187099227, 'MAU': 91}, {'Created time': 1678229615797, 'MAU': 92}, {'Created time': 1678247754111, 'MAU': 93}, {'Created time': 1678256812342, 'MAU': 94}, {'Created time': 1678271321132, 'MAU': 95}, {'Created time': 1678289219652, 'MAU': 96}, {'Created time': 1678338160597, 'MAU': 97}, {'Created time': 1678345081060, 'MAU': 98}, {'Created time': 1678355550570, 'MAU': 99}, {'Created time': 1678371977375, '是否为整百': True, 'MAU': 100}, {'Created time': 1678409733569, 'MAU': 101}, {'Created time': 1678755409317, 'MAU': 102}, {'Created time': 1678847202230, 'MAU': 103}, {'Created time': 1678847925402, 'MAU': 104}, {'Created time': 1678848060165, 'MAU': 105}, {'Created time': 1678850295285, 'MAU': 106}, {'Created time': 1678851091782, 'MAU': 107}, {'Created time': 1678851839207, 'MAU': 108}, {'Created time': 1678851899396, 'MAU': 109}, {'Created time': 1678853532690, 'MAU': 110}, {'Created time': 1678863858272, 'MAU': 111}, {'Created time': 1678867212272, 'MAU': 112}, {'Created time': 1678874410837, 'MAU': 113}, {'Created time': 1678881611738, 'MAU': 114}, {'Created time': 1678888817138, 'MAU': 115}, {'Created time': 1678896075061, 'MAU': 116}, {'Created time': 1678910410943, 'MAU': 117}, {'Created time': 1678917611090, 'MAU': 118}, {'Created time': 1678924815378, 'MAU': 119}, {'Created time': 1678932009372, 'MAU': 120}, {'Created time': 1678939272767, 'MAU': 121}, {'Created time': 1678946411307, 'MAU': 122}, {'Created time': 1678953640652, 'MAU': 123}, {'Created time': 1678960817659, 'MAU': 124}, {'Created time': 1678968009133, 'MAU': 125}, {'Created time': 1678975216696, 'MAU': 126}, {'Created time': 1678982480035, 'MAU': 127}, {'Created time': 1678989615386, 'MAU': 128}, {'Created time': 1679004013967, 'MAU': 129}, {'Created time': 1679011208221, 'MAU': 130}, {'Created time': 1679018415030, 'MAU': 131}, {'Created time': 1679025660641, 'MAU': 132}, {'Created time': 1679032814542, 'MAU': 133}, {'Created time': 1679040018632, 'MAU': 134}, {'Created time': 1679047213396, 'MAU': 135}, {'Created time': 1679054410605, 'MAU': 136}, {'Created time': 1679061613821, 'MAU': 137}, {'Created time': 1679068868055, 'MAU': 138}, {'Created time': 1679076010576, 'MAU': 139}, {'Created time': 1679083208535, 'MAU': 140}, {'Created time': 1679090410029, 'MAU': 141}, {'Created time': 1679097615567, 'MAU': 142}, {'Created time': 1679104817681, 'MAU': 143}, {'Created time': 1679112078051, 'MAU': 144}, {'Created time': 1679119216147, 'MAU': 145}, {'Created time': 1679126416244, 'MAU': 146}, {'Created time': 1679133616308, 'MAU': 147}, {'Created time': 1679140818975, 'MAU': 148}, {'Created time': 1679169614999, 'MAU': 149}, {'Created time': 1679176816092, 'MAU': 150}, {'Created time': 1679184010397, 'MAU': 151}, {'Created time': 1679191208408, 'MAU': 152}, {'Created time': 1679198469192, 'MAU': 153}, {'Created time': 1679205616397, 'MAU': 154}, {'Created time': 1679212811991, 'MAU': 155}, {'Created time': 1679220011028, 'MAU': 156}, {'Created time': 1679227211025, 'MAU': 157}, {'Created time': 1679234409166, 'MAU': 158}, {'Created time': 1679241668412, 'MAU': 159}, {'Created time': 1679248810680, 'MAU': 160}, {'Created time': 1679256016325, 'MAU': 161}, {'Created time': 1679263216456, 'MAU': 162}, {'Created time': 1679270410551, 'MAU': 163}, {'Created time': 1679277617775, 'MAU': 164}, {'Created time': 1679284864750, 'MAU': 165}, {'Created time': 1679292008436, 'MAU': 166}, {'Created time': 1679299212163, 'MAU': 167}, {'Created time': 1679306408400, 'MAU': 168}, {'Created time': 1679313608781, 'MAU': 169}, {'Created time': 1679320814204, 'MAU': 170}, {'Created time': 1679328079502, 'MAU': 171}, {'Created time': 1679337511161, 'MAU': 172}, {'Created time': 1679349723182, 'MAU': 173}, {'Created time': 1679357710563, 'MAU': 174}, {'Created time': 1679358237841, 'MAU': 175}, {'Created time': 1679364014764, 'MAU': 176}, {'Created time': 1679371275261, 'MAU': 177}, {'Created time': 1679414468107, 'MAU': 178}, {'Created time': 1679457658719, 'MAU': 179}, {'Created time': 1679500875789, 'MAU': 180}, {'Created time': 1679544061482, 'MAU': 181}, {'Created time': 1679587273387, 'MAU': 182}, {'Created time': 1679630464105, 'MAU': 183}, {'Created time': 1679673664096, 'MAU': 184}, {'Created time': 1679716863662, 'MAU': 185}, {'Created time': 1679760107913, 'MAU': 186}, {'Created time': 1679803264837, 'MAU': 187}, {'Created time': 1679889667293, 'MAU': 188}, {'Created time': 1679932868562, 'MAU': 189}, {'Created time': 1679976070005, 'MAU': 190}, {'Created time': 1680019269564, 'MAU': 191}, {'Created time': 1680062494047, 'MAU': 192}, {'Created time': 1680105672298, 'MAU': 193}, {'Created time': 1680148860869, 'MAU': 194}, {'Created time': 1680192062859, 'MAU': 195}, {'Created time': 1680254344662, 'MAU': 196}, {'Created time': 1680278476370, 'MAU': 197}, {'Created time': 1680321670307, 'MAU': 198}, {'Created time': 1680364886212, 'MAU': 199}, {'Created time': 1680408077548, '是否为整百': True, 'MAU': 200}, {'Created time': 1680451277147, 'MAU': 201}, {'Created time': 1680494472094, 'MAU': 202}, {'Created time': 1680537702684, 'MAU': 203}, {'Created time': 1680580866232, 'MAU': 204}, {'Created time': 1680624070254, 'MAU': 205}, {'Created time': 1680667266524, 'MAU': 206}, {'Created time': 1680710463935, 'MAU': 207}, {'Created time': 1680753675174, 'MAU': 208}, {'Created time': 1680796899781, 'MAU': 209}, {'Created time': 1680840088578, 'MAU': 210}, {'Created time': 1680883279951, 'MAU': 211}, {'Created time': 1680926479330, 'MAU': 212}, {'Created time': 1680969675485, 'MAU': 213}, {'Created time': 1681012869090, 'MAU': 214}, {'Created time': 1681056073385, 'MAU': 215}, {'Created time': 1681099258770, 'MAU': 216}, {'Created time': 1681142593065, 'MAU': 217}, {'Created time': 1681185679736, 'MAU': 218}, {'Created time': 1681228881835, 'MAU': 219}, {'Created time': 1681272090452, 'MAU': 220}, {'Created time': 1681315284622, 'MAU': 221}, {'Created time': 1681358498119, 'MAU': 222}, {'Created time': 1681401688693, 'MAU': 223}, {'Created time': 1681444877788, 'MAU': 224}, {'Created time': 1681488090934, 'MAU': 225}, {'Created time': 1681531297609, 'MAU': 226}, {'Created time': 1681574578958, 'MAU': 227}, {'Created time': 1681660875234, 'MAU': 228}, {'Created time': 1681704080830, 'MAU': 229}, {'Created time': 1681747290875, 'MAU': 230}, {'Created time': 1681790480466, 'MAU': 231}, {'Created time': 1681833673830, 'MAU': 232}, {'Created time': 1681876877963, 'MAU': 233}, {'Created time': 1681920087668, 'MAU': 234}, {'Created time': 1681963284372, 'MAU': 235}, {'Created time': 1682006485600, 'MAU': 236}, {'Created time': 1682049678868, 'MAU': 237}, {'Created time': 1682092894402, 'MAU': 238}, {'Created time': 1682136080199, 'MAU': 239}, {'Created time': 1682179325465, 'MAU': 240}, {'Created time': 1682222516760, 'MAU': 241}, {'Created time': 1682265682910, 'MAU': 242}, {'Created time': 1682309015540, 'MAU': 243}, {'Created time': 1682352103031, 'MAU': 244}, {'Created time': 1682395422553, 'MAU': 245}, {'Created time': 1682438501215, 'MAU': 246}, {'Created time': 1682481807970, 'MAU': 247}, {'Created time': 1682525002609, 'MAU': 248}, {'Created time': 1682568216563, 'MAU': 249}, {'Created time': 1682611278784, 'MAU': 250}, {'Created time': 1682654597985, 'MAU': 251}, {'Created time': 1682697682556, 'MAU': 252}, {'Created time': 1682741027376, 'MAU': 253}, {'Created time': 1682784089298, 'MAU': 254}, {'Created time': 1682827408951, 'MAU': 255}, {'Created time': 1682870481346, 'MAU': 256}, {'Created time': 1682913678297, 'MAU': 257}, {'Created time': 1682956897488, 'MAU': 258}, {'Created time': 1683000089267, 'MAU': 259}, {'Created time': 1683043290753, 'MAU': 260}, {'Created time': 1683086500821, 'MAU': 261}, {'Created time': 1683129691773, 'MAU': 262}, {'Created time': 1683172891142, 'MAU': 263}, {'Created time': 1683216105728, 'MAU': 264}, {'Created time': 1683259292089, 'MAU': 265}, {'Created time': 1683302533823, 'MAU': 266}, {'Created time': 1683345734467, 'MAU': 267}, {'Created time': 1683388908428, 'MAU': 268}, {'Created time': 1683432092751, 'MAU': 269}, {'Created time': 1683475289629, 'MAU': 270}, {'Created time': 1683518504291, 'MAU': 271}, {'Created time': 1683561694169, 'MAU': 272}, {'Created time': 1683604879703, 'MAU': 273}, {'Created time': 1683648106650, 'MAU': 274}, {'Created time': 1683691282854, 'MAU': 275}, {'Created time': 1683734510557, 'MAU': 276}, {'Created time': 1683777690767, 'MAU': 277}, {'Created time': 1683820894554, 'MAU': 278}, {'Created time': 1683864094800, 'MAU': 279}, {'Created time': 1683907280741, 'MAU': 280}, {'Created time': 1683950514793, 'MAU': 281}, {'Created time': 1683993724942, 'MAU': 282}, {'Created time': 1684036883463, 'MAU': 283}, {'Created time': 1684080083758, 'MAU': 284}, {'Created time': 1684123287169, 'MAU': 285}, {'Created time': 1684166484372, 'MAU': 286}, {'Created time': 1684209730491, 'MAU': 287}, {'Created time': 1684252889351, 'MAU': 288}, {'Created time': 1684296082065, 'MAU': 289}, {'Created time': 1684339289868, 'MAU': 290}, {'Created time': 1684382472244, 'MAU': 291}, {'Created time': 1684425717573, 'MAU': 292}, {'Created time': 1684468895674, 'MAU': 293}, {'Created time': 1684512101596, 'MAU': 294}, {'Created time': 1684555283930, 'MAU': 295}, {'Created time': 1684598490722, 'MAU': 296}, {'Created time': 1684641670884, 'MAU': 297}, {'Created time': 1684684870375, 'MAU': 298}, {'Created time': 1684728084230, 'MAU': 299}, {'Created time': 1684771281116, '是否为整百': True, 'MAU': 300}, {'Created time': 1684814483202, 'MAU': 301}, {'Created time': 1684857679273, 'MAU': 302}, {'Created time': 1684900894361, 'MAU': 303}, {'Created time': 1684944099673, 'MAU': 304}, {'Created time': 1684987278843, 'MAU': 305}, {'Created time': 1685073687290, 'MAU': 306}, {'Created time': 1685116888999, 'MAU': 307}, {'Created time': 1685160081786, 'MAU': 308}, {'Created time': 1685203292291, 'MAU': 309}, {'Created time': 1685246478654, 'MAU': 310}, {'Created time': 1685289682165, 'MAU': 311}, {'Created time': 1685332887444, 'MAU': 312}, {'Created time': 1685376085669, 'MAU': 313}, {'Created time': 1685419275591, 'MAU': 314}, {'Created time': 1685462481318, 'MAU': 315}, {'Created time': 1685505686986, 'MAU': 316}, {'Created time': 1685548878038, 'MAU': 317}, {'Created time': 1685592078020, 'MAU': 318}, {'Created time': 1685635279473, 'MAU': 319}, {'Created time': 1685678482722, 'MAU': 320}, {'Created time': 1685721742023, 'MAU': 321}, {'Created time': 1685764872645, 'MAU': 322}, {'Created time': 1685808077205, 'MAU': 323}, {'Created time': 1685851283026, 'MAU': 324}, {'Created time': 1685894477398, 'MAU': 325}, {'Created time': 1685937683903, 'MAU': 326}, {'Created time': 1685980877975, 'MAU': 327}, {'Created time': 1686024071271, 'MAU': 328}, {'Created time': 1686067257663, 'MAU': 329}, {'Created time': 1686110478200, 'MAU': 330}, {'Created time': 1686153676721, 'MAU': 331}]\u001b[0m\u001b[32;1m\u001b[1;3mThe latest value of APITable MAU in xukecheng's space is 331.\u001b[0m\n",
      "\n",
      "\u001b[1m> Finished chain.\u001b[0m\n"
     ]
    },
    {
     "data": {
      "text/plain": [
       "\"The latest value of APITable MAU in xukecheng's space is 331.\""
      ]
     },
     "execution_count": 16,
     "metadata": {},
     "output_type": "execute_result"
    }
   ],
   "source": [
    "mrkl.run(\"Tell me the latest value of APITable MAU in xukecheng's space\")"
   ]
  }
 ],
 "metadata": {
  "kernelspec": {
   "display_name": "Python 3",
   "language": "python",
   "name": "python3"
  },
  "language_info": {
   "codemirror_mode": {
    "name": "ipython",
    "version": 3
   },
   "file_extension": ".py",
   "mimetype": "text/x-python",
   "name": "python",
   "nbconvert_exporter": "python",
   "pygments_lexer": "ipython3",
   "version": "3.10.10"
  },
  "orig_nbformat": 4
 },
 "nbformat": 4,
 "nbformat_minor": 2
}
